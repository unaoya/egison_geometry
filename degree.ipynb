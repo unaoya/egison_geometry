{
 "cells": [
  {
   "cell_type": "markdown",
   "metadata": {},
   "source": [
    "$S^1 \\to S^1$の写像度を計算する。\n",
    "de Rham cohomologyの基底$d\\theta$をとって、$f^*d\\theta=deg(f)\\theta$として計算する。\n",
    "\n",
    "ここでは$R^2$の直交座標$(x,y)$ととって、$S^1=\\{x^2+y^2=1\\}$とし、$\\theta \\mapsto (x=\\cos\\theta, y=\\sin\\theta)$と$S^1 \\to R^2$に埋め込んで考える。"
   ]
  },
  {
   "cell_type": "code",
   "execution_count": 4,
   "metadata": {
    "collapsed": false
   },
   "outputs": [
    {
     "name": "stdout",
     "output_type": "stream",
     "text": []
    }
   ],
   "source": [
    "(define $r (lambda [%X] (+ (** X_1 2) (** X_2 2))))"
   ]
  },
  {
   "cell_type": "code",
   "execution_count": 5,
   "metadata": {
    "collapsed": false
   },
   "outputs": [
    {
     "name": "stdout",
     "output_type": "stream",
     "text": []
    }
   ],
   "source": [
    "(define $f (lambda [%X] [|(cos X_1) (sin X_1)|]))"
   ]
  },
  {
   "cell_type": "markdown",
   "metadata": {},
   "source": [
    "$$\n",
    "\\omega=\\frac{-y}{x^2+y^2}dx+\\frac{x}{x^2+y^2}dy\n",
    "$$\n",
    "とすると、これを$S^1$に引き戻せば$d\\theta$となる。"
   ]
  },
  {
   "cell_type": "code",
   "execution_count": 2,
   "metadata": {
    "collapsed": false
   },
   "outputs": [
    {
     "name": "stdout",
     "output_type": "stream",
     "text": []
    }
   ],
   "source": [
    "(define $omega (lambda [%X] [|(/ (* -1 X_2) (r X)) (/ X_1 (r X))|]))"
   ]
  },
  {
   "cell_type": "markdown",
   "metadata": {},
   "source": [
    "微分形式の引き戻しを以下のように定義する。\n",
    "実際には抽象的に引き戻しの操作を書いて起きたい。"
   ]
  },
  {
   "cell_type": "code",
   "execution_count": 6,
   "metadata": {
    "collapsed": false
   },
   "outputs": [
    {
     "name": "stdout",
     "output_type": "stream",
     "text": []
    }
   ],
   "source": [
    "(define $pullback (lambda [$omega $f %X] (. ((flip ∂/∂) X_i (f X)~j) (omega (f X))_j)))"
   ]
  },
  {
   "cell_type": "code",
   "execution_count": 7,
   "metadata": {
    "collapsed": false
   },
   "outputs": [
    {
     "name": "stdout",
     "output_type": "stream",
     "text": []
    }
   ],
   "source": [
    "(define $X [|theta|])"
   ]
  },
  {
   "cell_type": "code",
   "execution_count": 8,
   "metadata": {
    "collapsed": false
   },
   "outputs": [
    {
     "data": {
      "text/html": [
       "$$\\begin{pmatrix} 1\\\\ \\end{pmatrix}_{\\;}^{i}$$"
      ]
     },
     "metadata": {},
     "output_type": "display_data"
    }
   ],
   "source": [
    "(pullback omega f X)"
   ]
  },
  {
   "cell_type": "code",
   "execution_count": 9,
   "metadata": {
    "collapsed": false
   },
   "outputs": [
    {
     "name": "stdout",
     "output_type": "stream",
     "text": []
    }
   ],
   "source": [
    "(define $g (lambda [%X] [|(- (** X_1 2) (** X_2 2)) (* 2 X_1 X_2)|]))"
   ]
  },
  {
   "cell_type": "code",
   "execution_count": 10,
   "metadata": {
    "collapsed": false
   },
   "outputs": [
    {
     "data": {
      "text/html": [
       "$$\\begin{pmatrix} 2\\\\ \\end{pmatrix}_{\\;}^{i}$$"
      ]
     },
     "metadata": {},
     "output_type": "display_data"
    }
   ],
   "source": [
    "(pullback omega (lambda [%X] (g (f X))) X)"
   ]
  },
  {
   "cell_type": "markdown",
   "metadata": {},
   "source": [
    "$n$乗写像を一般的に生成したい。\n",
    "行列の積として表すことを考える。"
   ]
  },
  {
   "cell_type": "code",
   "execution_count": 24,
   "metadata": {
    "collapsed": false
   },
   "outputs": [
    {
     "name": "stdout",
     "output_type": "stream",
     "text": []
    }
   ],
   "source": [
    "(define $I [|[|x -y|] [|y x|]|])"
   ]
  },
  {
   "cell_type": "code",
   "execution_count": 25,
   "metadata": {
    "collapsed": false
   },
   "outputs": [
    {
     "data": {
      "text/html": [
       "$$\\begin{pmatrix} x^2 & -y^2 \\\\ y^2 & x^2 \\\\ \\end{pmatrix}$$"
      ]
     },
     "metadata": {},
     "output_type": "display_data"
    }
   ],
   "source": [
    "(. I I) ;これはうまくparseできてない"
   ]
  },
  {
   "cell_type": "code",
   "execution_count": 16,
   "metadata": {
    "collapsed": false
   },
   "outputs": [
    {
     "name": "stdout",
     "output_type": "stream",
     "text": []
    }
   ],
   "source": [
    "(define $J [|[|x (* -1 y)|] [|y x|]|])"
   ]
  },
  {
   "cell_type": "code",
   "execution_count": 17,
   "metadata": {
    "collapsed": false
   },
   "outputs": [
    {
     "data": {
      "text/html": [
       "$$\\begin{pmatrix} x^2 & y^2 \\\\ y^2 & x^2 \\\\ \\end{pmatrix}$$"
      ]
     },
     "metadata": {},
     "output_type": "display_data"
    }
   ],
   "source": [
    "(. J J)"
   ]
  },
  {
   "cell_type": "code",
   "execution_count": 18,
   "metadata": {
    "collapsed": false
   },
   "outputs": [
    {
     "data": {
      "text/html": [
       "$$\\begin{pmatrix} x^2 - y^2 & -2 x y \\\\ 2 y x & -y^2 + x^2 \\\\ \\end{pmatrix}_{\\;k}^{i\\;}$$"
      ]
     },
     "metadata": {},
     "output_type": "display_data"
    }
   ],
   "source": [
    "(. J~i_j J~j_k)"
   ]
  },
  {
   "cell_type": "code",
   "execution_count": 19,
   "metadata": {
    "collapsed": false
   },
   "outputs": [
    {
     "name": "stdout",
     "output_type": "stream",
     "text": []
    }
   ],
   "source": [
    "(define $cube (. (. J~i_j J~j_k) J~k_l))"
   ]
  },
  {
   "cell_type": "code",
   "execution_count": 20,
   "metadata": {
    "collapsed": false
   },
   "outputs": [
    {
     "data": {
      "text/html": [
       "$$\\begin{pmatrix} x^3 - 3 y^2 x & -3 x^2 y + y^3 \\\\ 3 y x^2 - y^3 & -3 y^2 x + x^3 \\\\ \\end{pmatrix}_{\\;l}^{i\\;}$$"
      ]
     },
     "metadata": {},
     "output_type": "display_data"
    }
   ],
   "source": [
    "cube"
   ]
  },
  {
   "cell_type": "code",
   "execution_count": 22,
   "metadata": {
    "collapsed": false
   },
   "outputs": [
    {
     "data": {
      "text/html": [
       "$$\\begin{pmatrix} x^3 - 3 y^2 x \\\\ -3 x^2 y + y^3\\\\ \\end{pmatrix}$$"
      ]
     },
     "metadata": {},
     "output_type": "display_data"
    }
   ],
   "source": [
    "cube_1"
   ]
  },
  {
   "cell_type": "code",
   "execution_count": null,
   "metadata": {
    "collapsed": true
   },
   "outputs": [],
   "source": []
  }
 ],
 "metadata": {
  "kernelspec": {
   "display_name": "Egison",
   "language": "egison",
   "name": "egison"
  },
  "language_info": {
   "codemirror_mode": "egison",
   "file_extension": ".egi",
   "mimetype": "text/plain",
   "name": "egison"
  }
 },
 "nbformat": 4,
 "nbformat_minor": 0
}
