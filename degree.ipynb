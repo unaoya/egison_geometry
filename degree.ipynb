{
 "cells": [
  {
   "cell_type": "markdown",
   "metadata": {},
   "source": [
    "$S^1 \\to S^1$の写像度を計算する。\n",
    "de Rham cohomologyの基底$d\\theta$をとって、$f^*d\\theta=deg(f)\\theta$として計算する。\n",
    "\n",
    "ここでは$R^2$の直交座標$(x,y)$ととって、$S^1=\\{x^2+y^2=1\\}$とし、$\\theta \\mapsto (x=\\cos\\theta, y=\\sin\\theta)$と$S^1 \\to R^2$に埋め込んで考える。"
   ]
  },
  {
   "cell_type": "code",
   "execution_count": 1,
   "metadata": {
    "collapsed": false
   },
   "outputs": [
    {
     "name": "stdout",
     "output_type": "stream",
     "text": []
    }
   ],
   "source": [
    "(define $r (lambda [%X] (+ (** X_1 2) (** X_2 2))))"
   ]
  },
  {
   "cell_type": "code",
   "execution_count": 2,
   "metadata": {
    "collapsed": false
   },
   "outputs": [
    {
     "name": "stdout",
     "output_type": "stream",
     "text": []
    }
   ],
   "source": [
    "(define $f (lambda [%X] [|(cos X_1) (sin X_1)|]))"
   ]
  },
  {
   "cell_type": "markdown",
   "metadata": {},
   "source": [
    "$$\n",
    "\\omega=\\frac{-y}{x^2+y^2}dx+\\frac{x}{x^2+y^2}dy\n",
    "$$\n",
    "とすると、これを$S^1$に引き戻せば$d\\theta$となる。"
   ]
  },
  {
   "cell_type": "code",
   "execution_count": 3,
   "metadata": {
    "collapsed": false
   },
   "outputs": [
    {
     "name": "stdout",
     "output_type": "stream",
     "text": []
    }
   ],
   "source": [
    "(define $omega (lambda [%X] [|(/ (* -1 X_2) (r X)) (/ X_1 (r X))|]))"
   ]
  },
  {
   "cell_type": "markdown",
   "metadata": {},
   "source": [
    "微分形式の引き戻しを以下のように定義する。\n",
    "実際には抽象的に引き戻しの操作を書いて起きたい。"
   ]
  },
  {
   "cell_type": "code",
   "execution_count": 4,
   "metadata": {
    "collapsed": false
   },
   "outputs": [
    {
     "name": "stdout",
     "output_type": "stream",
     "text": []
    }
   ],
   "source": [
    "(define $pullback (lambda [$omega $f %X] (. ((flip ∂/∂) X_i (f X)~j) (omega (f X))_j)))"
   ]
  },
  {
   "cell_type": "code",
   "execution_count": 5,
   "metadata": {
    "collapsed": false
   },
   "outputs": [
    {
     "name": "stdout",
     "output_type": "stream",
     "text": []
    }
   ],
   "source": [
    "(define $X [|theta|])"
   ]
  },
  {
   "cell_type": "code",
   "execution_count": 6,
   "metadata": {
    "collapsed": false
   },
   "outputs": [
    {
     "data": {
      "text/html": [
       "$$\\begin{pmatrix} 1\\\\ \\end{pmatrix}_{i}^{\\;}$$"
      ]
     },
     "metadata": {},
     "output_type": "display_data"
    }
   ],
   "source": [
    "(pullback omega f X)"
   ]
  },
  {
   "cell_type": "code",
   "execution_count": 7,
   "metadata": {
    "collapsed": false
   },
   "outputs": [
    {
     "name": "stdout",
     "output_type": "stream",
     "text": []
    }
   ],
   "source": [
    "(define $g (lambda [%X] [|(- (** X_1 2) (** X_2 2)) (* 2 X_1 X_2)|]))"
   ]
  },
  {
   "cell_type": "code",
   "execution_count": 8,
   "metadata": {
    "collapsed": false
   },
   "outputs": [
    {
     "data": {
      "text/html": [
       "$$\\begin{pmatrix} 2\\\\ \\end{pmatrix}_{i}^{\\;}$$"
      ]
     },
     "metadata": {},
     "output_type": "display_data"
    }
   ],
   "source": [
    "(pullback omega (lambda [%X] (g (f X))) X)"
   ]
  },
  {
   "cell_type": "markdown",
   "metadata": {},
   "source": [
    "$n$乗写像を一般的に生成したい。\n",
    "行列の積として表すことを考える。"
   ]
  },
  {
   "cell_type": "code",
   "execution_count": 10,
   "metadata": {
    "collapsed": false
   },
   "outputs": [
    {
     "data": {
      "text/html": [
       "$$\\{x^3 - 3 x y^2, 3 x^2 y - y^3\\}$$"
      ]
     },
     "metadata": {},
     "output_type": "display_data"
    }
   ],
   "source": [
    "(coefficients (** (+ x (* y i)) 3) i)"
   ]
  },
  {
   "cell_type": "code",
   "execution_count": 28,
   "metadata": {
    "collapsed": false
   },
   "outputs": [
    {
     "data": {
      "text/html": [
       "$$3 sin(t)^2 cos(t) - cos(t)^3$$"
      ]
     },
     "metadata": {},
     "output_type": "display_data"
    }
   ],
   "source": [
    "(substitute {[x (sin t)] [y (cos t)]} (nth 2 (coefficients (** (+ x (* y i)) 3) i)))"
   ]
  },
  {
   "cell_type": "code",
   "execution_count": 27,
   "metadata": {
    "collapsed": false
   },
   "outputs": [
    {
     "data": {
      "text/html": [
       "$$9 sin(t) - 12 sin(t)^3$$"
      ]
     },
     "metadata": {},
     "output_type": "display_data"
    }
   ],
   "source": [
    "(∂/∂ (substitute {[x (sin t)] [y (cos t)]} (nth 2 (coefficients (** (+ x (* y i)) 3) i))) t)"
   ]
  },
  {
   "cell_type": "code",
   "execution_count": 40,
   "metadata": {
    "collapsed": false
   },
   "outputs": [
    {
     "name": "stdout",
     "output_type": "stream",
     "text": []
    }
   ],
   "source": [
    "(define $f\n",
    "    (lambda [$n]\n",
    "        (map (lambda $f (substitute {[x (cos t)] [y (sin t)]} f)) (coefficients (** (+ x (* y i)) n) i))))"
   ]
  },
  {
   "cell_type": "code",
   "execution_count": 41,
   "metadata": {
    "collapsed": false
   },
   "outputs": [
    {
     "data": {
      "text/html": [
       "$$\\{cos(t)^3 - 3 cos(t) sin(t)^2, 3 cos(t)^2 sin(t) - sin(t)^3\\}$$"
      ]
     },
     "metadata": {},
     "output_type": "display_data"
    }
   ],
   "source": [
    "(f 3)"
   ]
  },
  {
   "cell_type": "code",
   "execution_count": 45,
   "metadata": {
    "collapsed": false
   },
   "outputs": [
    {
     "name": "stdout",
     "output_type": "stream",
     "text": []
    }
   ],
   "source": [
    "(define $phi (map (lambda [$f] (∂/∂ f t)) (f 3)))"
   ]
  },
  {
   "cell_type": "code",
   "execution_count": 46,
   "metadata": {
    "collapsed": false
   },
   "outputs": [
    {
     "data": {
      "text/html": [
       "$$\\{-9 sin(t) + 12 sin(t)^3, -12 cos(t) sin(t)^2 + 3 cos(t)\\}$$"
      ]
     },
     "metadata": {},
     "output_type": "display_data"
    }
   ],
   "source": [
    "phi"
   ]
  },
  {
   "cell_type": "code",
   "execution_count": 59,
   "metadata": {
    "collapsed": false
   },
   "outputs": [
    {
     "name": "stdout",
     "output_type": "stream",
     "text": []
    }
   ],
   "source": [
    "(define $omega [|(/ (* -1 y) (+ (** x 2) (** y 2))) (/ x (+ (** x 2) (** y 2)))|])"
   ]
  },
  {
   "cell_type": "code",
   "execution_count": 60,
   "metadata": {
    "collapsed": false
   },
   "outputs": [
    {
     "data": {
      "text/html": [
       "$$\\begin{pmatrix} \\frac{-y}{x^2 + y^2} \\\\ \\frac{x}{x^2 + y^2}\\\\ \\end{pmatrix}$$"
      ]
     },
     "metadata": {},
     "output_type": "display_data"
    }
   ],
   "source": [
    "omega"
   ]
  },
  {
   "cell_type": "code",
   "execution_count": 62,
   "metadata": {
    "collapsed": false
   },
   "outputs": [
    {
     "data": {
      "text/html": [
       "$$\\begin{pmatrix} \\frac{-3 cos(t)^2 sin(t) + sin(t)^3}{cos(t)^6 + 3 cos(t)^4 sin(t)^2 + 3 cos(t)^2 sin(t)^4 + sin(t)^6} \\\\ \\frac{cos(t)^3 - 3 cos(t) sin(t)^2}{cos(t)^6 + 3 cos(t)^4 sin(t)^2 + 3 cos(t)^2 sin(t)^4 + sin(t)^6}\\\\ \\end{pmatrix}$$"
      ]
     },
     "metadata": {},
     "output_type": "display_data"
    }
   ],
   "source": [
    "(substitute {[x (nth 1 (f 3))] [y (nth 2 (f 3))]} omega)"
   ]
  },
  {
   "cell_type": "code",
   "execution_count": 65,
   "metadata": {
    "collapsed": false
   },
   "outputs": [
    {
     "data": {
      "text/html": [
       "$$3$$"
      ]
     },
     "metadata": {},
     "output_type": "display_data"
    }
   ],
   "source": [
    "(. (substitute {[x (nth 1 (f 3))] [y (nth 2 (f 3))]} omega)~i [|(nth 1 phi) (nth 2 phi)|]_i)"
   ]
  },
  {
   "cell_type": "code",
   "execution_count": null,
   "metadata": {
    "collapsed": true
   },
   "outputs": [],
   "source": []
  }
 ],
 "metadata": {
  "kernelspec": {
   "display_name": "Egison",
   "language": "egison",
   "name": "egison"
  },
  "language_info": {
   "codemirror_mode": "egison",
   "file_extension": ".egi",
   "mimetype": "text/plain",
   "name": "egison"
  }
 },
 "nbformat": 4,
 "nbformat_minor": 0
}
