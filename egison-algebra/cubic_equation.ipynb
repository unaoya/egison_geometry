{
 "cells": [
  {
   "cell_type": "code",
   "execution_count": 2,
   "metadata": {
    "collapsed": false
   },
   "outputs": [
    {
     "name": "stdout",
     "output_type": "stream",
     "text": []
    }
   ],
   "source": [
    "(define $cubic-formula c-f)"
   ]
  },
  {
   "cell_type": "code",
   "execution_count": 3,
   "metadata": {
    "collapsed": false
   },
   "outputs": [
    {
     "name": "stdout",
     "output_type": "stream",
     "text": []
    }
   ],
   "source": [
    "(define $c-f\n",
    "  (lambda [$f $x]\n",
    "    (match (coefficients f x) (list math-expr)\n",
    "      {[<cons $a_0 <cons $a_1 <cons $a_2 <cons $a_3 <nil>>>>>\n",
    "        (c-f' a_3 a_2 a_1 a_0)]})))"
   ]
  },
  {
   "cell_type": "code",
   "execution_count": 4,
   "metadata": {
    "collapsed": false
   },
   "outputs": [
    {
     "name": "stdout",
     "output_type": "stream",
     "text": []
    }
   ],
   "source": [
    "(define $w (/ (+ -1 (* i (sqrt 3))) 2))"
   ]
  },
  {
   "cell_type": "code",
   "execution_count": 5,
   "metadata": {
    "collapsed": false
   },
   "outputs": [
    {
     "name": "stdout",
     "output_type": "stream",
     "text": []
    }
   ],
   "source": [
    "(define $c-f'\n",
    "  (lambda [$a $b $c $d]\n",
    "    (match [a b c d] [math-expr math-expr math-expr math-expr]\n",
    "      {[[,1 ,0 $p $q]\n",
    "        (let {[[$s1 $s2] (2#[(rt 3 %1) (rt 3 %2)] (q-f' 1 (* 27 q) (* -27 p^3)))]}\n",
    "          [(/ (+ s1 s2) 3)              \n",
    "           (/ (+ (* w^2 s1) (* w s2)) 3)\n",
    "           (/ (+ (* w s1) (* w^2 s2)) 3)\n",
    "           ])]\n",
    "       [[,1 _ _ _]\n",
    "        (3#[(- %1 (/ b 3)) (- %2 (/ b 3)) (- %3 (/ b 3))]\n",
    "           (with-symbols {x y}\n",
    "             (c-f (substitute {[x (- y (/ b 3))]} (+ x^3 (* b x^2) (* c x) d)) y)))]\n",
    "       [[_ _ _ _] (c-f' 1 (/ b a) (/ c a) (/ d a))]})))"
   ]
  },
  {
   "cell_type": "code",
   "execution_count": 6,
   "metadata": {
    "collapsed": false
   },
   "outputs": [
    {
     "data": {
      "text/html": [
       "$$x^3 - 6 x^2 + 11 x - 6$$"
      ]
     },
     "metadata": {},
     "output_type": "display_data"
    }
   ],
   "source": [
    "(* (- x 1) (- x 2) (- x 3))"
   ]
  },
  {
   "cell_type": "code",
   "execution_count": 7,
   "metadata": {
    "collapsed": false
   },
   "outputs": [
    {
     "data": {
      "text/html": [
       "$$(2, \\frac{\\sqrt{3} i + 2 \\sqrt{3} w i + 6}{3}, \\frac{-\\sqrt{3} i - 2 \\sqrt{3} w i + 6}{3})$$"
      ]
     },
     "metadata": {},
     "output_type": "display_data"
    }
   ],
   "source": [
    "(c-f (+ x^3 (* -6 x^2) (* 11 x) -6) x)"
   ]
  },
  {
   "cell_type": "code",
   "execution_count": 9,
   "metadata": {
    "collapsed": false
   },
   "outputs": [
    {
     "data": {
      "text/html": [
       "$$\\frac{\\sqrt[3]{\\frac{-27 q + \\sqrt{729 q^2 + 108 p^3}}{2}} + \\sqrt[3]{\\frac{-27 q - \\sqrt{729 q^2 + 108 p^3}}{2}}}{3}$$"
      ]
     },
     "metadata": {},
     "output_type": "display_data"
    }
   ],
   "source": [
    "(3#%1 (c-f (+ x^3 (* p x) q) x))"
   ]
  },
  {
   "cell_type": "code",
   "execution_count": 10,
   "metadata": {
    "collapsed": false
   },
   "outputs": [
    {
     "data": {
      "text/html": [
       "$$\\frac{\\sqrt[3]{\\frac{-2 b^3 a + 9 c b a^2 - 27 d a^3 + \\sqrt{108 b^3 d a^4 - 27 c^2 b^2 a^4 - 486 c b a^5 d + 729 d^2 a^6 + 108 c^3 a^5}}{2 a^4}} a + \\sqrt[3]{\\frac{-2 b^3 a + 9 c b a^2 - 27 d a^3 - \\sqrt{108 b^3 d a^4 - 27 c^2 b^2 a^4 - 486 c b a^5 d + 729 d^2 a^6 + 108 c^3 a^5}}{2 a^4}} a - b}{3 a}$$"
      ]
     },
     "metadata": {},
     "output_type": "display_data"
    }
   ],
   "source": [
    "(3#%1 (c-f (+ (* a x^3) (* b x^2) (* c x) d) x))"
   ]
  }
 ],
 "metadata": {
  "kernelspec": {
   "display_name": "Egison",
   "language": "egison",
   "name": "egison"
  },
  "language_info": {
   "codemirror_mode": "egison",
   "file_extension": ".egi",
   "mimetype": "text/plain",
   "name": "egison"
  }
 },
 "nbformat": 4,
 "nbformat_minor": 2
}
