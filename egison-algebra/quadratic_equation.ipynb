{
 "cells": [
  {
   "cell_type": "code",
   "execution_count": 1,
   "metadata": {
    "collapsed": false
   },
   "outputs": [
    {
     "name": "stdout",
     "output_type": "stream",
     "text": []
    }
   ],
   "source": [
    "(define $quadratic-formula q-f)"
   ]
  },
  {
   "cell_type": "code",
   "execution_count": 2,
   "metadata": {
    "collapsed": false
   },
   "outputs": [
    {
     "name": "stdout",
     "output_type": "stream",
     "text": []
    }
   ],
   "source": [
    "(define $q-f\n",
    "  (lambda [$f $x]\n",
    "    (match (coefficients f x) (list math-expr)\n",
    "      {[<cons $a_0 <cons $a_1 <cons $a_2 <nil>>>>\n",
    "        (q-f' a_2 a_1 a_0)]})))"
   ]
  },
  {
   "cell_type": "code",
   "execution_count": 3,
   "metadata": {
    "collapsed": false
   },
   "outputs": [
    {
     "name": "stdout",
     "output_type": "stream",
     "text": []
    }
   ],
   "source": [
    "(define $q-f'\n",
    "  (lambda [$a $b $c]\n",
    "    (match [a b c] [math-expr math-expr math-expr]\n",
    "      {[[,1 ,0 _]\n",
    "        [(sqrt (* -1 c)) (* -1 (sqrt (* -1 c)))]]\n",
    "       [[,1 _ _]\n",
    "        (2#[(+ (* -1 (/ b 2)) %1) (+ (* -1 (/ b 2)) %2)]\n",
    "           (with-symbols {x y}\n",
    "             (q-f (substitute {[x (- y (/ b 2))]} (+ x^2 (* b x) c)) y)))]\n",
    "       [[_ _ _] (q-f' 1 (/ b a) (/ c a))]})))"
   ]
  },
  {
   "cell_type": "code",
   "execution_count": 4,
   "metadata": {
    "collapsed": false
   },
   "outputs": [
    {
     "data": {
      "text/html": [
       "$$(\\frac{-1 + \\sqrt{3} i}{2}, \\frac{-1 - \\sqrt{3} i}{2})$$"
      ]
     },
     "metadata": {},
     "output_type": "display_data"
    }
   ],
   "source": [
    "(q-f (+ x^2 x 1) x)"
   ]
  },
  {
   "cell_type": "code",
   "execution_count": 5,
   "metadata": {
    "collapsed": false
   },
   "outputs": [
    {
     "data": {
      "text/html": [
       "$$(\\frac{-b + \\sqrt{b^2 - 4 a c}}{2 a}, \\frac{-b - \\sqrt{b^2 - 4 a c}}{2 a})$$"
      ]
     },
     "metadata": {},
     "output_type": "display_data"
    }
   ],
   "source": [
    "(q-f (+ (* a x^2) (* b x) c) x)"
   ]
  },
  {
   "cell_type": "code",
   "execution_count": 6,
   "metadata": {
    "collapsed": false
   },
   "outputs": [
    {
     "data": {
      "text/html": [
       "$$(\\frac{-2 b + \\sqrt{4 b^2 - 4 a c}}{2 a}, \\frac{-2 b - \\sqrt{4 b^2 - 4 a c}}{2 a})$$"
      ]
     },
     "metadata": {},
     "output_type": "display_data"
    }
   ],
   "source": [
    "(q-f (+ (* a x^2) (* 2 b x) c) x)"
   ]
  },
  {
   "cell_type": "code",
   "execution_count": 7,
   "metadata": {
    "collapsed": false
   },
   "outputs": [
    {
     "data": {
      "text/html": [
       "$$2$$"
      ]
     },
     "metadata": {},
     "output_type": "display_data"
    }
   ],
   "source": [
    "(sqrt 4)"
   ]
  },
  {
   "cell_type": "code",
   "execution_count": 8,
   "metadata": {
    "collapsed": false
   },
   "outputs": [
    {
     "data": {
      "text/html": [
       "$$2 \\sqrt{x}$$"
      ]
     },
     "metadata": {},
     "output_type": "display_data"
    }
   ],
   "source": [
    "(sqrt (* 4 x))"
   ]
  },
  {
   "cell_type": "code",
   "execution_count": 9,
   "metadata": {
    "collapsed": false
   },
   "outputs": [
    {
     "data": {
      "text/html": [
       "$$\\sqrt{4 x + 4 y}$$"
      ]
     },
     "metadata": {},
     "output_type": "display_data"
    }
   ],
   "source": [
    "(sqrt (+ (* 4 x) (* 4 y)))"
   ]
  },
  {
   "cell_type": "code",
   "execution_count": 11,
   "metadata": {
    "collapsed": false
   },
   "outputs": [
    {
     "data": {
      "text/html": [
       "$$\\sqrt{4 x + 4 y}$$"
      ]
     },
     "metadata": {},
     "output_type": "display_data"
    }
   ],
   "source": [
    "(sqrt (* 4 (+ x y)))"
   ]
  },
  {
   "cell_type": "code",
   "execution_count": 12,
   "metadata": {
    "collapsed": false
   },
   "outputs": [
    {
     "data": {
      "text/html": [
       "$$x \\sqrt{x}$$"
      ]
     },
     "metadata": {},
     "output_type": "display_data"
    }
   ],
   "source": [
    "(sqrt (** x 3))"
   ]
  },
  {
   "cell_type": "code",
   "execution_count": 13,
   "metadata": {
    "collapsed": false
   },
   "outputs": [
    {
     "data": {
      "text/html": [
       "$$\\sqrt{x^2 - 2 x + 1}$$"
      ]
     },
     "metadata": {},
     "output_type": "display_data"
    }
   ],
   "source": [
    "(sqrt (** (- x 1) 2))"
   ]
  },
  {
   "cell_type": "code",
   "execution_count": 14,
   "metadata": {
    "collapsed": false
   },
   "outputs": [
    {
     "data": {
      "text/html": [
       "$$\\{2, 5\\}$$"
      ]
     },
     "metadata": {},
     "output_type": "display_data"
    }
   ],
   "source": [
    "(p-f 10)"
   ]
  },
  {
   "cell_type": "code",
   "execution_count": 15,
   "metadata": {
    "collapsed": false
   },
   "outputs": [
    {
     "data": {
      "text/html": [
       "$$\\{2, 2, 3\\}$$"
      ]
     },
     "metadata": {},
     "output_type": "display_data"
    }
   ],
   "source": [
    "(p-f 12)"
   ]
  },
  {
   "cell_type": "code",
   "execution_count": 16,
   "metadata": {
    "collapsed": false
   },
   "outputs": [
    {
     "name": "stdout",
     "output_type": "stream",
     "text": []
    }
   ],
   "source": [
    "(define $f (* 4 (+ x 1)))"
   ]
  },
  {
   "cell_type": "code",
   "execution_count": 17,
   "metadata": {
    "collapsed": false
   },
   "outputs": [
    {
     "data": {
      "text/html": [
       "$$4 x + 4$$"
      ]
     },
     "metadata": {},
     "output_type": "display_data"
    }
   ],
   "source": [
    "f"
   ]
  },
  {
   "cell_type": "code",
   "execution_count": 18,
   "metadata": {
    "collapsed": false
   },
   "outputs": [
    {
     "data": {
      "text/html": [
       "$$\\sqrt{4 x + 4}$$"
      ]
     },
     "metadata": {},
     "output_type": "display_data"
    }
   ],
   "source": [
    "(sqrt f)"
   ]
  },
  {
   "cell_type": "code",
   "execution_count": 20,
   "metadata": {
    "collapsed": false
   },
   "outputs": [
    {
     "data": {
      "text/html": [
       "$$\\{4, 4\\}$$"
      ]
     },
     "metadata": {},
     "output_type": "display_data"
    }
   ],
   "source": [
    "(coefficients f x)"
   ]
  },
  {
   "cell_type": "code",
   "execution_count": 21,
   "metadata": {
    "collapsed": false
   },
   "outputs": [
    {
     "name": "stdout",
     "output_type": "stream",
     "text": [
      "(+ x^2 (* -1 x a_2) (* -1 a_1 x) (* a_1 a_2))\r\n"
     ]
    }
   ],
   "source": [
    "(* (- x a_1) (- x a_2))"
   ]
  },
  {
   "cell_type": "code",
   "execution_count": 23,
   "metadata": {
    "collapsed": false
   },
   "outputs": [
    {
     "name": "stdout",
     "output_type": "stream",
     "text": [
      "{(* a_1 a_2) (+ (* -1 a_2) (* -1 a_1)) 1}\r\n"
     ]
    }
   ],
   "source": [
    "(coefficients (* (- x a_1) (- x a_2)) x)"
   ]
  },
  {
   "cell_type": "code",
   "execution_count": 24,
   "metadata": {
    "collapsed": false
   },
   "outputs": [
    {
     "name": "stdout",
     "output_type": "stream",
     "text": [
      "{(* -1 a_1 a_2 a_3) (+ (* a_2 a_3) (* a_1 a_3) (* a_1 a_2)) (+ (* -1 a_3) (* -1 a_2) (* -1 a_1)) 1}\r\n"
     ]
    }
   ],
   "source": [
    "(coefficients (* (- x a_1) (- x a_2) (- x a_3)) x)"
   ]
  },
  {
   "cell_type": "code",
   "execution_count": 25,
   "metadata": {
    "collapsed": false
   },
   "outputs": [
    {
     "name": "stdout",
     "output_type": "stream",
     "text": [
      "(+ (* -1 a_1^2 a_2) (* -1 a_1 a_3^2) (* a_1^2 a_3) (* -1 a_2^2 a_3) (* a_2^2 a_1) (* a_2 a_3^2))\r\n"
     ]
    }
   ],
   "source": [
    "(* (- a_1 a_2) (- a_2 a_3) (- a_3 a_1))"
   ]
  },
  {
   "cell_type": "code",
   "execution_count": 26,
   "metadata": {
    "collapsed": false
   },
   "outputs": [
    {
     "data": {
      "text/html": [
       "$$1$$"
      ]
     },
     "metadata": {},
     "output_type": "display_data"
    }
   ],
   "source": [
    "(** w 3)"
   ]
  },
  {
   "cell_type": "code",
   "execution_count": 27,
   "metadata": {
    "collapsed": false
   },
   "outputs": [
    {
     "name": "stdout",
     "output_type": "stream",
     "text": [
      "(+ a_1^2 a_2^2 a_3^2 (* -1 a_1 a_2) (* -1 a_3 a_1) (* -1 a_2 a_3))\r\n"
     ]
    }
   ],
   "source": [
    "(* (+ a_1 (* w a_2) (* (** w 2) a_3)) (+ a_1 (* (** w 2) a_2) (* w a_3)))"
   ]
  },
  {
   "cell_type": "code",
   "execution_count": 31,
   "metadata": {
    "collapsed": false
   },
   "outputs": [
    {
     "name": "stdout",
     "output_type": "stream",
     "text": [
      "(+ a_1^3 (* 3 a_1^2 w a_2) (* 3 a_1^2 w^2 a_3) (* 3 a_1 w^2 a_2^2) (* 6 a_1 a_2 a_3) (* 3 a_1 a_3^2 w) a_2^3 (* 3 a_2^2 a_3 w) (* 3 a_2 a_3^2 w^2) a_3^3)\r\n"
     ]
    }
   ],
   "source": [
    "(** (+ a_1 (* w a_2) (* (** w 2) a_3)) 3)"
   ]
  },
  {
   "cell_type": "code",
   "execution_count": 32,
   "metadata": {
    "collapsed": false
   },
   "outputs": [
    {
     "name": "stdout",
     "output_type": "stream",
     "text": [
      "{(+ a_1^3 (* 6 a_1 a_2 a_3) a_2^3 a_3^3) (+ (* 3 a_1^2 a_2) (* 3 a_1 a_3^2) (* 3 a_2^2 a_3)) (+ (* 3 a_1^2 a_3) (* 3 a_1 a_2^2) (* 3 a_2 a_3^2))}\r\n"
     ]
    }
   ],
   "source": [
    "(coefficients (** (+ a_1 (* w a_2) (* (** w 2) a_3)) 3) w)"
   ]
  },
  {
   "cell_type": "code",
   "execution_count": 8,
   "metadata": {
    "collapsed": false
   },
   "outputs": [
    {
     "name": "stdout",
     "output_type": "stream",
     "text": []
    }
   ],
   "source": [
    "(define $a (symbolic-tensor [] {3} a))"
   ]
  },
  {
   "cell_type": "code",
   "execution_count": 9,
   "metadata": {
    "collapsed": false
   },
   "outputs": [
    {
     "name": "stdout",
     "output_type": "stream",
     "text": []
    }
   ],
   "source": [
    "(define $Delta (* (- a_1 a_2) (- a_2 a_3) (- a_3 a_1)))"
   ]
  },
  {
   "cell_type": "code",
   "execution_count": 10,
   "metadata": {
    "collapsed": false
   },
   "outputs": [
    {
     "data": {
      "text/html": [
       "$$a_{1}^{\\;}^4 a_{2}^{\\;}^2 + 2 a_{1}^{\\;}^3 a_{2}^{\\;} a_{3}^{\\;}^2 - 2 a_{1}^{\\;}^4 a_{2}^{\\;} a_{3}^{\\;} + 2 a_{1}^{\\;}^2 a_{2}^{\\;}^3 a_{3}^{\\;} - 2 a_{1}^{\\;}^3 a_{2}^{\\;}^3 - 6 a_{1}^{\\;}^2 a_{2}^{\\;}^2 a_{3}^{\\;}^2 + a_{1}^{\\;}^2 a_{3}^{\\;}^4 - 2 a_{1}^{\\;}^3 a_{3}^{\\;}^3 + 2 a_{1}^{\\;} a_{3}^{\\;}^3 a_{2}^{\\;}^2 - 2 a_{1}^{\\;} a_{3}^{\\;}^4 a_{2}^{\\;} + a_{1}^{\\;}^4 a_{3}^{\\;}^2 + 2 a_{1}^{\\;}^3 a_{3}^{\\;} a_{2}^{\\;}^2 + 2 a_{1}^{\\;}^2 a_{3}^{\\;}^3 a_{2}^{\\;} + a_{2}^{\\;}^4 a_{3}^{\\;}^2 - 2 a_{2}^{\\;}^4 a_{3}^{\\;} a_{1}^{\\;} - 2 a_{2}^{\\;}^3 a_{3}^{\\;}^3 + a_{2}^{\\;}^4 a_{1}^{\\;}^2 + 2 a_{2}^{\\;}^3 a_{1}^{\\;} a_{3}^{\\;}^2 + a_{2}^{\\;}^2 a_{3}^{\\;}^4$$"
      ]
     },
     "metadata": {},
     "output_type": "display_data"
    }
   ],
   "source": [
    "(** Delta 2)"
   ]
  },
  {
   "cell_type": "code",
   "execution_count": 38,
   "metadata": {
    "collapsed": false
   },
   "outputs": [
    {
     "data": {
      "text/html": [
       "$$-b^2 c - b d^2 + b^2 d - c^2 d + c^2 b + c d^2$$"
      ]
     },
     "metadata": {},
     "output_type": "display_data"
    }
   ],
   "source": [
    "Delta"
   ]
  },
  {
   "cell_type": "code",
   "execution_count": 39,
   "metadata": {
    "collapsed": false
   },
   "outputs": [
    {
     "data": {
      "text/html": [
       "$$b^3 + 3 b^2 w c + 3 b^2 w^2 d + 3 b w^2 c^2 + 6 b c d + 3 b d^2 w + c^3 + 3 c^2 d w + 3 c d^2 w^2 + d^3$$"
      ]
     },
     "metadata": {},
     "output_type": "display_data"
    }
   ],
   "source": [
    "(** (+ a_1 (* w a_2) (* (** w 2) a_3)) 3)"
   ]
  },
  {
   "cell_type": "code",
   "execution_count": 41,
   "metadata": {
    "collapsed": false
   },
   "outputs": [
    {
     "data": {
      "text/html": [
       "$$\\{b^3 + 6 b c d + c^3 + d^3, 3 b^2 c + 3 b d^2 + 3 c^2 d, 3 b^2 d + 3 b c^2 + 3 c d^2\\}$$"
      ]
     },
     "metadata": {},
     "output_type": "display_data"
    }
   ],
   "source": [
    "(coefficients (** (+ a_1 (* w a_2) (* (** w 2) a_3)) 3) w)"
   ]
  },
  {
   "cell_type": "code",
   "execution_count": 40,
   "metadata": {
    "collapsed": false
   },
   "outputs": [
    {
     "data": {
      "text/html": [
       "$$b^3 + 3 b^2 w^2 c + 3 b^2 w d + 3 b c^2 w + 6 b c d + 3 b w^2 d^2 + c^3 + 3 c^2 d w^2 + 3 c d^2 w + d^3$$"
      ]
     },
     "metadata": {},
     "output_type": "display_data"
    }
   ],
   "source": [
    "(** (+ a_1 (* (** w 2) a_2) (* w a_3)) 3)"
   ]
  },
  {
   "cell_type": "code",
   "execution_count": 42,
   "metadata": {
    "collapsed": false
   },
   "outputs": [
    {
     "data": {
      "text/html": [
       "$$b^2 c + 3 b c d + b^2 d + c^2 b + c^2 d + d^2 c + d^2 b$$"
      ]
     },
     "metadata": {},
     "output_type": "display_data"
    }
   ],
   "source": [
    "(* (+ a_1 a_2 a_3) (+ (* a_1 a_2) (* a_2 a_3) (* a_3 a_1)))"
   ]
  },
  {
   "cell_type": "markdown",
   "metadata": {
    "collapsed": true
   },
   "source": [
    "Let $K$ be our base field, which contains cubic root of $1$.\n",
    "Let $a, b, c$ denote the coefficients of a cubic polynomial\n",
    "$$\n",
    "x^3 + a x^2 + b x + c = 0\n",
    "$$\n",
    "and let $\\alpha, \\beta, \\gamma$ denote its roots."
   ]
  },
  {
   "cell_type": "markdown",
   "metadata": {},
   "source": [
    "We have\n",
    "$$\n",
    "\\alpha + \\beta + \\gamma = -a\\\\\n",
    "\\alpha\\beta + \\beta\\gamma + \\gamma\\alpha = b\\\\\n",
    "\\alpha\\beta\\gamma = -c\n",
    "$$"
   ]
  },
  {
   "cell_type": "code",
   "execution_count": 2,
   "metadata": {
    "collapsed": false
   },
   "outputs": [
    {
     "name": "stdout",
     "output_type": "stream",
     "text": []
    }
   ],
   "source": [
    "(define $r [|alpha beta gamma|])"
   ]
  },
  {
   "cell_type": "code",
   "execution_count": 3,
   "metadata": {
    "collapsed": false
   },
   "outputs": [
    {
     "name": "stdout",
     "output_type": "stream",
     "text": []
    }
   ],
   "source": [
    "(define $a (* -1 (+ r_1 r_2 r_3)))"
   ]
  },
  {
   "cell_type": "code",
   "execution_count": 4,
   "metadata": {
    "collapsed": false
   },
   "outputs": [
    {
     "name": "stdout",
     "output_type": "stream",
     "text": []
    }
   ],
   "source": [
    "(define $b (+ (* r_1 r_2) (* r_2 r_3) (* f_3 r_1)))"
   ]
  },
  {
   "cell_type": "code",
   "execution_count": 5,
   "metadata": {
    "collapsed": false
   },
   "outputs": [
    {
     "name": "stdout",
     "output_type": "stream",
     "text": []
    }
   ],
   "source": [
    "(define $c (* -1 (* r_1 r_2 r_3)))"
   ]
  },
  {
   "cell_type": "markdown",
   "metadata": {},
   "source": [
    "The field $K(\\alpha)$ is an intermediate extension of $K(\\alpha, \\beta, \\gamma)$ over $K$, which is of degree $3$.\n",
    "Since we have\n",
    "$$\n",
    "\\beta + \\gamma = -a -\\alpha\\\\\n",
    "\\beta\\gamma = \\frac{-c}{\\alpha},\n",
    "$$\n",
    "$\\beta$ and $\\gamma$ is the root of a quadratic polynomial.\n",
    "\n",
    "Hence the degree $K(\\alpha, \\beta, \\gamma)/K$ is $6$."
   ]
  },
  {
   "cell_type": "markdown",
   "metadata": {},
   "source": [
    "The group $S_3$ acts on $K(\\alpha, \\beta, \\gamma)$ as permutation of the roots and it defines a $K$-linear representation of dimension $6$.\n",
    "Let's compute the character of this representation.\n",
    "Take a basis $1, \\alpha, \\alpha^2, \\beta, \\alpha\\beta, \\alpha^2\\beta$."
   ]
  },
  {
   "cell_type": "code",
   "execution_count": null,
   "metadata": {
    "collapsed": true
   },
   "outputs": [],
   "source": []
  },
  {
   "cell_type": "markdown",
   "metadata": {},
   "source": [
    "$S_3$ has its normal group $A_3$, this defines a quadratic extension $K(\\Delta)$ of $K$.\n",
    "$K/K(\\Delta)$ is a representation of $A_3$.\n",
    "We would like to understand this situation via representation of $S_3$."
   ]
  },
  {
   "cell_type": "markdown",
   "metadata": {},
   "source": [
    "$$\n",
    "\\Delta = (\\alpha - \\beta)(\\beta - \\gamma)(\\gamma - \\alpha)\n",
    "$$\n",
    "defines the sign representation of $S_3$.\n",
    "\n",
    "$$\n",
    "\\alpha + \\omega \\beta + \\omega^2 \\gamma\\\\\n",
    "\\alpha + \\omega^2 \\beta + \\omega \\gamma\n",
    "$$\n",
    "define representaions of $A_3=<(123)>$ of character $\\omega^2, \\omega$ respectively."
   ]
  },
  {
   "cell_type": "code",
   "execution_count": null,
   "metadata": {
    "collapsed": true
   },
   "outputs": [],
   "source": []
  }
 ],
 "metadata": {
  "kernelspec": {
   "display_name": "Egison",
   "language": "egison",
   "name": "egison"
  },
  "language_info": {
   "codemirror_mode": "egison",
   "file_extension": ".egi",
   "mimetype": "text/plain",
   "name": "egison"
  }
 },
 "nbformat": 4,
 "nbformat_minor": 2
}
