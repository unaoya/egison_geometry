{
 "cells": [
  {
   "cell_type": "code",
   "execution_count": 1,
   "metadata": {
    "collapsed": false
   },
   "outputs": [
    {
     "name": "stdout",
     "output_type": "stream",
     "text": []
    }
   ],
   "source": [
    "(define $quartic-formula qt-f)"
   ]
  },
  {
   "cell_type": "code",
   "execution_count": 2,
   "metadata": {
    "collapsed": false
   },
   "outputs": [
    {
     "name": "stdout",
     "output_type": "stream",
     "text": []
    }
   ],
   "source": [
    "(define $qt-f\n",
    "  (lambda [$f $x]\n",
    "    (match (coefficients f x) (list math-expr)\n",
    "      {[<cons $a_0 <cons $a_1 <cons $a_2 <cons $a_3 <cons $a_4 <nil>>>>>>\n",
    "        (qt-f' a_4 a_3 a_2 a_1 a_0)]})))"
   ]
  },
  {
   "cell_type": "code",
   "execution_count": 3,
   "metadata": {
    "collapsed": false
   },
   "outputs": [
    {
     "name": "stdout",
     "output_type": "stream",
     "text": []
    }
   ],
   "source": [
    "(define $w (/ (+ -1 (* i (sqrt 3))) 2))"
   ]
  },
  {
   "cell_type": "code",
   "execution_count": 4,
   "metadata": {
    "collapsed": false
   },
   "outputs": [
    {
     "name": "stdout",
     "output_type": "stream",
     "text": []
    }
   ],
   "source": [
    "(define $qt-f'\n",
    "  (lambda [$a $b $c $d $e]\n",
    "    (match [a b c d e] [math-expr math-expr math-expr math-expr math-expr]\n",
    "      {[[,1 ,0 $p ,0 $q]\n",
    "        (let* {[[$s1 $s2] (q-f' 1 p q)]\n",
    "               [[$r1 $r2] (q-f' 1 0 (* -1 s1))]\n",
    "               [[$r3 $r4] (q-f' 1 0 (* -1 s2))]}\n",
    "          [r1 r2 r3 r4])]\n",
    "       [[,1 ,0 $p $q $r]\n",
    "        (let* {[$u (3#%1 (with-symbols {u} (c-f (+ (* u (+ p u)^2) (* -4 r u) (* -1 q^2)) u)))]\n",
    "               [[$r1 $r2] (q-f (+ y^2 (/ (+ p u) 2) (* (sqrt u) (- y (/ q (* 2 u))))) y)]\n",
    "               [[$r3 $r4] (q-f (+ y^2 (/ (+ p u) 2) (* -1 (sqrt u) (- y (/ q (* 2 u))))) y)]}\n",
    "          [r1 r2 r3 r4])]\n",
    "       [[,1 _ _ _ _]\n",
    "        (4#[(- %1 (/ b 4)) (- %2 (/ b 4)) (- %3 (/ b 4)) (- %4 (/ b 4))]\n",
    "           (with-symbols {x y}\n",
    "             (qt-f (substitute {[x (- y (/ b 4))]} (+ x^4 (* b x^3) (* c x^2) (* d x) e)) y)))]\n",
    "       [[_ _ _ _ _] (qt-f' 1 (/ b a) (/ c a) (/ d a) (/ e a))]})))"
   ]
  },
  {
   "cell_type": "code",
   "execution_count": 5,
   "metadata": {
    "collapsed": false
   },
   "outputs": [
    {
     "data": {
      "text/html": [
       "$$x^4 - 10 x^3 + 35 x^2 - 50 x + 24$$"
      ]
     },
     "metadata": {},
     "output_type": "display_data"
    }
   ],
   "source": [
    "(* (- x 1) (- x 2) (- x 3) (- x 4))"
   ]
  },
  {
   "cell_type": "code",
   "execution_count": 6,
   "metadata": {
    "collapsed": false
   },
   "outputs": [
    {
     "name": "stdout",
     "output_type": "stream",
     "text": [
      "(qt-f' 1 -10 35 -50 24)\r\n"
     ]
    }
   ],
   "source": [
    "(qt-f (+ x^4 (* -10 x^3) (* 35 x^2) (* -50 x) 24) x)"
   ]
  },
  {
   "cell_type": "code",
   "execution_count": null,
   "metadata": {
    "collapsed": true
   },
   "outputs": [],
   "source": []
  }
 ],
 "metadata": {
  "kernelspec": {
   "display_name": "Egison",
   "language": "egison",
   "name": "egison"
  },
  "language_info": {
   "codemirror_mode": "egison",
   "file_extension": ".egi",
   "mimetype": "text/plain",
   "name": "egison"
  }
 },
 "nbformat": 4,
 "nbformat_minor": 2
}
