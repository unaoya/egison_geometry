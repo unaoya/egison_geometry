{
 "cells": [
  {
   "cell_type": "markdown",
   "metadata": {},
   "source": [
    "https://github.com/egison-libs/galois-theory/blob/master/lib/math/algebra/symmetric-group.egi"
   ]
  },
  {
   "cell_type": "code",
   "execution_count": 1,
   "metadata": {
    "collapsed": false
   },
   "outputs": [
    {
     "name": "stdout",
     "output_type": "stream",
     "text": []
    }
   ],
   "source": [
    "(define $group (set G.element))"
   ]
  },
  {
   "cell_type": "code",
   "execution_count": 2,
   "metadata": {
    "collapsed": false
   },
   "outputs": [
    {
     "name": "stdout",
     "output_type": "stream",
     "text": []
    }
   ],
   "source": [
    "(define $group (set G.element))"
   ]
  },
  {
   "cell_type": "code",
   "execution_count": 3,
   "metadata": {
    "collapsed": false
   },
   "outputs": [
    {
     "name": "stdout",
     "output_type": "stream",
     "text": []
    }
   ],
   "source": [
    "(define $G.*\n",
    "    (lambda [$e1 $e2]\n",
    "        (map (nth $ e1) e2)))"
   ]
  },
  {
   "cell_type": "code",
   "execution_count": 4,
   "metadata": {
    "collapsed": false
   },
   "outputs": [
    {
     "name": "stdout",
     "output_type": "stream",
     "text": []
    }
   ],
   "source": [
    "(define $G.inverse\n",
    "    (lambda [$e]\n",
    "        (match (zip e (G.id (length e))) (multiset [integer integer])\n",
    "            {[(loop $i [1 (length e)] <cons [,i $x_i] ...> <nil>)\n",
    "                (map 1#x_%1 (between 1 (length e)))]})))"
   ]
  },
  {
   "cell_type": "code",
   "execution_count": 5,
   "metadata": {
    "collapsed": false
   },
   "outputs": [
    {
     "name": "stdout",
     "output_type": "stream",
     "text": []
    }
   ],
   "source": [
    "(define $G.eq? (eq?/m group $ $))"
   ]
  },
  {
   "cell_type": "code",
   "execution_count": 6,
   "metadata": {
    "collapsed": false
   },
   "outputs": [
    {
     "name": "stdout",
     "output_type": "stream",
     "text": []
    }
   ],
   "source": [
    "(define $G.id?\n",
    "    (lambda [$e]\n",
    "        (eq? (G.id (length e)))))"
   ]
  },
  {
   "cell_type": "code",
   "execution_count": 7,
   "metadata": {
    "collapsed": false
   },
   "outputs": [
    {
     "name": "stdout",
     "output_type": "stream",
     "text": []
    }
   ],
   "source": [
    "(define $group?\n",
    "  (lambda [$g]\n",
    "    (and (any G.id? g)\n",
    "         (and (all (member? $ g) (map G.reverse g))\n",
    "              (all (member? $ g)\n",
    "                   (match-all g group\n",
    "                     [<cons $e1 <cons $e2 _>> (G.* e1 e2)]))))))"
   ]
  },
  {
   "cell_type": "code",
   "execution_count": 8,
   "metadata": {
    "collapsed": false
   },
   "outputs": [
    {
     "name": "stdout",
     "output_type": "stream",
     "text": []
    }
   ],
   "source": [
    "(define $G.to-cycles\n",
    "  (lambda [$e]\n",
    "    (match (match-all (zip (G.id (length e)) e) (multiset [integer integer])\n",
    "             [<cons [$m (& !,m $n)] _> [m n]])\n",
    "             (multiset [integer integer])\n",
    "      {[(loop $i [1 $m]\n",
    "          <cons [$x_i_1 $x_i_2]\n",
    "           (loop $j [3 $n_i]\n",
    "             <cons [,x_i_(- j 1) $x_i_j] ...>\n",
    "             <cons [,x_i_(ref n i) ,x_i_1] ...>)>\n",
    "          <nil>)\n",
    "        (map (lambda [$i] (map (lambda [$j] x_i_j) (between 1 n_i))) (between 1 m))]})))"
   ]
  },
  {
   "cell_type": "code",
   "execution_count": 9,
   "metadata": {
    "collapsed": false
   },
   "outputs": [
    {
     "name": "stdout",
     "output_type": "stream",
     "text": []
    }
   ],
   "source": [
    "(define $symmetric-group\n",
    "  (lambda [$n]\n",
    "    (match-all (between 1 n) (multiset integer)\n",
    "      [(loop $i [1 n] <cons $a_i ...> <nil>)\n",
    "       (map (lambda [$i] a_i) (between 1 n))])))"
   ]
  },
  {
   "cell_type": "code",
   "execution_count": 10,
   "metadata": {
    "collapsed": false
   },
   "outputs": [
    {
     "name": "stdout",
     "output_type": "stream",
     "text": []
    }
   ],
   "source": [
    "(define $s3 (symmetric-group 3))"
   ]
  },
  {
   "cell_type": "code",
   "execution_count": 11,
   "metadata": {
    "collapsed": false
   },
   "outputs": [
    {
     "name": "stdout",
     "output_type": "stream",
     "text": []
    }
   ],
   "source": [
    "(define $s4 (symmetric-group 4))"
   ]
  },
  {
   "cell_type": "code",
   "execution_count": 12,
   "metadata": {
    "collapsed": false
   },
   "outputs": [
    {
     "name": "stdout",
     "output_type": "stream",
     "text": []
    }
   ],
   "source": [
    "(define $s5 (symmetric-group 5))"
   ]
  },
  {
   "cell_type": "code",
   "execution_count": 13,
   "metadata": {
    "collapsed": false
   },
   "outputs": [
    {
     "name": "stdout",
     "output_type": "stream",
     "text": []
    }
   ],
   "source": [
    "(define $a3 (commutator-subgroup s3))"
   ]
  },
  {
   "cell_type": "code",
   "execution_count": 14,
   "metadata": {
    "collapsed": false
   },
   "outputs": [
    {
     "name": "stdout",
     "output_type": "stream",
     "text": []
    }
   ],
   "source": [
    "(define $a4 (commutator-subgroup s4))"
   ]
  },
  {
   "cell_type": "code",
   "execution_count": 15,
   "metadata": {
    "collapsed": false
   },
   "outputs": [
    {
     "name": "stdout",
     "output_type": "stream",
     "text": []
    }
   ],
   "source": [
    "(define $a5 (commutator-subgroup s5))"
   ]
  },
  {
   "cell_type": "code",
   "execution_count": 16,
   "metadata": {
    "collapsed": false
   },
   "outputs": [
    {
     "name": "stdout",
     "output_type": "stream",
     "text": []
    }
   ],
   "source": [
    "(define $v4 (commutator-subgroup a4))"
   ]
  },
  {
   "cell_type": "code",
   "execution_count": 17,
   "metadata": {
    "collapsed": false
   },
   "outputs": [
    {
     "name": "stdout",
     "output_type": "stream",
     "text": []
    }
   ],
   "source": [
    "(define $normal-subgroup?\n",
    "  (lambda [$h $g]\n",
    "    (all G.eq?\n",
    "         (map 1#[(map (G.* %1 $) h) (map (G.* $ %1) h)]\n",
    "              g))))"
   ]
  },
  {
   "cell_type": "code",
   "execution_count": 18,
   "metadata": {
    "collapsed": false
   },
   "outputs": [
    {
     "name": "stdout",
     "output_type": "stream",
     "text": []
    }
   ],
   "source": [
    "(define $gen-cyclic-group\n",
    "  (lambda [$e]\n",
    "    (take-until-by (G.id? $) (scanl G.* e (repeat1 e)))))"
   ]
  },
  {
   "cell_type": "code",
   "execution_count": 19,
   "metadata": {
    "collapsed": false
   },
   "outputs": [
    {
     "name": "stdout",
     "output_type": "stream",
     "text": []
    }
   ],
   "source": [
    "(define $cyclic-subgroups\n",
    "  (lambda [$g]\n",
    "    (unique/m group\n",
    "              (map (gen-cyclic-group $)\n",
    "                   g))))"
   ]
  },
  {
   "cell_type": "code",
   "execution_count": 20,
   "metadata": {
    "collapsed": false
   },
   "outputs": [
    {
     "name": "stdout",
     "output_type": "stream",
     "text": []
    }
   ],
   "source": [
    "(define $generators\n",
    "  (lambda [$g]\n",
    "    (map car (cyclic-subgroups g))))"
   ]
  },
  {
   "cell_type": "code",
   "execution_count": 21,
   "metadata": {
    "collapsed": false
   },
   "outputs": [
    {
     "name": "stdout",
     "output_type": "stream",
     "text": []
    }
   ],
   "source": [
    "(define $gen-group\n",
    "  (lambda [$es]\n",
    "    (let {[$cgs (map gen-cyclic-group es)]}\n",
    "      (foldl G.** (car cgs) (cdr cgs)))))"
   ]
  },
  {
   "cell_type": "code",
   "execution_count": 22,
   "metadata": {
    "collapsed": false
   },
   "outputs": [
    {
     "name": "stdout",
     "output_type": "stream",
     "text": []
    }
   ],
   "source": [
    "(define $G.product\n",
    "  (lambda [$g1 $g2]\n",
    "    (unique (match-all [g1 g2] [group group]\n",
    "              [[<cons $e1 _> <cons $e2 _>] (G.* e1 e2)]))))"
   ]
  },
  {
   "cell_type": "code",
   "execution_count": 23,
   "metadata": {
    "collapsed": false
   },
   "outputs": [
    {
     "name": "stdout",
     "output_type": "stream",
     "text": []
    }
   ],
   "source": [
    "(define $G.**\n",
    "  (lambda [$g1 $g2]\n",
    "    (let {[$pg (G.product g1 g2)]}\n",
    "      (match (scanl 2#(let {[$ng (union (2#%1 %1) (G.product (2#%2 %1) %2))]} [ng (difference ng (2#%1 %1))]) [pg pg] (repeat1 pg))\n",
    "             (list [group (set G.element)])\n",
    "        {[<join _ <cons [$g <nil>]  _>> g]}))))"
   ]
  },
  {
   "cell_type": "code",
   "execution_count": 24,
   "metadata": {
    "collapsed": false
   },
   "outputs": [
    {
     "name": "stdout",
     "output_type": "stream",
     "text": []
    }
   ],
   "source": [
    "(define $G.//\n",
    "  (lambda [$g1 $g2]\n",
    "    (let {[$hs (difference/m (multiset G.element) (cyclic-subgroups g1) (cyclic-subgroups g2))]}\n",
    "      (car (concat (map (lambda [$h]\n",
    "                          (let {[$g2' (G.** h g2)]}\n",
    "                            (if (include?/m group g1 g2')\n",
    "                              (if (include?/m group g2' g1)\n",
    "                                {h}\n",
    "                                {(G.** h (G.// g1 g2'))})\n",
    "                              {})))\n",
    "                        hs))))))"
   ]
  },
  {
   "cell_type": "code",
   "execution_count": 25,
   "metadata": {
    "collapsed": false
   },
   "outputs": [
    {
     "name": "stdout",
     "output_type": "stream",
     "text": []
    }
   ],
   "source": [
    "(define $commutator\n",
    "  (lambda [$e1 $e2]\n",
    "    (G.* (G.* e1 e2)\n",
    "         (G.* (G.reverse e1) (G.reverse e2)))))"
   ]
  },
  {
   "cell_type": "code",
   "execution_count": 26,
   "metadata": {
    "collapsed": false
   },
   "outputs": [
    {
     "name": "stdout",
     "output_type": "stream",
     "text": []
    }
   ],
   "source": [
    "(define $commutator-subgroup\n",
    "  (lambda [$g]\n",
    "    (letrec {[$es (unique (match-all g group\n",
    "                            [<cons $e1 <cons $e2 _>> (commutator e1 e2)]))]}\n",
    "      (if (group? es)\n",
    "        es\n",
    "        (gen-group es)))))"
   ]
  },
  {
   "cell_type": "code",
   "execution_count": 27,
   "metadata": {
    "collapsed": false
   },
   "outputs": [
    {
     "name": "stdout",
     "output_type": "stream",
     "text": []
    }
   ],
   "source": [
    "(define $abelian-group?\n",
    "  (lambda [$g]\n",
    "    (eq? 1\n",
    "         (length (commutator-subgroup g)))))"
   ]
  },
  {
   "cell_type": "code",
   "execution_count": 28,
   "metadata": {
    "collapsed": false
   },
   "outputs": [
    {
     "name": "stdout",
     "output_type": "stream",
     "text": []
    }
   ],
   "source": [
    "(define $perfect-group?\n",
    "  (lambda [$g]\n",
    "    (eq? (length g)\n",
    "         (length (commutator-subgroup g)))))"
   ]
  },
  {
   "cell_type": "code",
   "execution_count": 29,
   "metadata": {
    "collapsed": false
   },
   "outputs": [
    {
     "data": {
      "text/html": [
       "$$\\{\\{1, 2, 3\\}, \\{1, 3, 2\\}, \\{2, 1, 3\\}, \\{2, 3, 1\\}, \\{3, 1, 2\\}, \\{3, 2, 1\\}\\}$$"
      ]
     },
     "metadata": {},
     "output_type": "display_data"
    }
   ],
   "source": [
    "s3"
   ]
  },
  {
   "cell_type": "code",
   "execution_count": 30,
   "metadata": {
    "collapsed": false
   },
   "outputs": [
    {
     "data": {
      "text/html": [
       "$$\\{\\{1, 2, 3, 4\\}, \\{1, 2, 4, 3\\}, \\{1, 3, 2, 4\\}, \\{2, 1, 3, 4\\}, \\{1, 3, 4, 2\\}, \\{1, 4, 2, 3\\}, \\{2, 1, 4, 3\\}, \\{2, 3, 1, 4\\}, \\{3, 1, 2, 4\\}, \\{1, 4, 3, 2\\}, \\{2, 3, 4, 1\\}, \\{2, 4, 1, 3\\}, \\{3, 1, 4, 2\\}, \\{3, 2, 1, 4\\}, \\{4, 1, 2, 3\\}, \\{2, 4, 3, 1\\}, \\{3, 2, 4, 1\\}, \\{3, 4, 1, 2\\}, \\{4, 1, 3, 2\\}, \\{4, 2, 1, 3\\}, \\{3, 4, 2, 1\\}, \\{4, 2, 3, 1\\}, \\{4, 3, 1, 2\\}, \\{4, 3, 2, 1\\}\\}$$"
      ]
     },
     "metadata": {},
     "output_type": "display_data"
    }
   ],
   "source": [
    "s4"
   ]
  },
  {
   "cell_type": "code",
   "execution_count": 31,
   "metadata": {
    "collapsed": false
   },
   "outputs": [
    {
     "name": "stdout",
     "output_type": "stream",
     "text": [
      "Expected math expression, but found: {{1 2 3} {1 3 2} {2 1 3} {2 3 1} {3 1 2} {3 2 1}}\r\n"
     ]
    }
   ],
   "source": [
    "a3"
   ]
  },
  {
   "cell_type": "code",
   "execution_count": null,
   "metadata": {
    "collapsed": true
   },
   "outputs": [],
   "source": []
  }
 ],
 "metadata": {
  "kernelspec": {
   "display_name": "Egison",
   "language": "egison",
   "name": "egison"
  },
  "language_info": {
   "codemirror_mode": "egison",
   "file_extension": ".egi",
   "mimetype": "text/plain",
   "name": "egison"
  }
 },
 "nbformat": 4,
 "nbformat_minor": 0
}
