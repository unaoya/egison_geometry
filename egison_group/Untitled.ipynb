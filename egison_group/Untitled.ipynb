{
 "cells": [
  {
   "cell_type": "code",
   "execution_count": 1,
   "metadata": {
    "collapsed": false
   },
   "outputs": [
    {
     "name": "stdout",
     "output_type": "stream",
     "text": []
    }
   ],
   "source": [
    "(define $symmetric-group\n",
    "  (lambda [$n]\n",
    "    (match-all (between 1 n) (multiset integer)\n",
    "      [(loop $i [1 n] <cons $a_i ...> <nil>)\n",
    "       (map (lambda [$i] a_i) (between 1 n))])))"
   ]
  },
  {
   "cell_type": "code",
   "execution_count": 2,
   "metadata": {
    "collapsed": false
   },
   "outputs": [
    {
     "name": "stdout",
     "output_type": "stream",
     "text": []
    }
   ],
   "source": [
    "(define $s3 (symmetric-group 3))"
   ]
  },
  {
   "cell_type": "code",
   "execution_count": 3,
   "metadata": {
    "collapsed": false
   },
   "outputs": [
    {
     "data": {
      "text/html": [
       "$$\\{\\{1, 2, 3\\}, \\{1, 3, 2\\}, \\{2, 1, 3\\}, \\{2, 3, 1\\}, \\{3, 1, 2\\}, \\{3, 2, 1\\}\\}$$"
      ]
     },
     "metadata": {},
     "output_type": "display_data"
    }
   ],
   "source": [
    "s3"
   ]
  },
  {
   "cell_type": "code",
   "execution_count": 9,
   "metadata": {
    "collapsed": false
   },
   "outputs": [
    {
     "name": "stdout",
     "output_type": "stream",
     "text": []
    }
   ],
   "source": [
    "(define $G.*\n",
    "    (lambda [$e1 $e2]\n",
    "        (map (nth $ e1) e2)))"
   ]
  },
  {
   "cell_type": "code",
   "execution_count": 10,
   "metadata": {
    "collapsed": false
   },
   "outputs": [
    {
     "data": {
      "text/html": [
       "$$\\{1, 2, 3\\}$$"
      ]
     },
     "metadata": {},
     "output_type": "display_data"
    }
   ],
   "source": [
    "(G.* {1 3 2} {1 3 2})"
   ]
  },
  {
   "cell_type": "code",
   "execution_count": null,
   "metadata": {
    "collapsed": true
   },
   "outputs": [],
   "source": []
  }
 ],
 "metadata": {
  "kernelspec": {
   "display_name": "Egison",
   "language": "egison",
   "name": "egison"
  },
  "language_info": {
   "codemirror_mode": "egison",
   "file_extension": ".egi",
   "mimetype": "text/plain",
   "name": "egison"
  }
 },
 "nbformat": 4,
 "nbformat_minor": 0
}
