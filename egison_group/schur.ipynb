{
 "cells": [
  {
   "cell_type": "markdown",
   "metadata": {},
   "source": [
    "Schur多項式\n",
    "\n",
    "$\\alpha_1>\\alpha_2>\\cdots>\\alpha_n\\geq0$に対し\n",
    "$$\n",
    "\\det(x_j^{\\alpha_i})_{1\\leq i,j,\\leq n}\n",
    "$$"
   ]
  },
  {
   "cell_type": "code",
   "execution_count": 15,
   "metadata": {
    "collapsed": false
   },
   "outputs": [
    {
     "name": "stdout",
     "output_type": "stream",
     "text": []
    }
   ],
   "source": [
    "(define $a [|2 1 0|])"
   ]
  },
  {
   "cell_type": "code",
   "execution_count": 27,
   "metadata": {
    "collapsed": false
   },
   "outputs": [
    {
     "name": "stdout",
     "output_type": "stream",
     "text": [
      "[| [| x_1^2 x_1 1 |] [| x_2^2 x_2 1 |] [| x_3^2 x_3 1 |] |]\r\n"
     ]
    }
   ],
   "source": [
    "(generate-tensor 2#(** x_%1 a_%2) {3 3})"
   ]
  },
  {
   "cell_type": "code",
   "execution_count": 28,
   "metadata": {
    "collapsed": false
   },
   "outputs": [
    {
     "name": "stdout",
     "output_type": "stream",
     "text": [
      "(+ (* x_1^2 x_2) (* x_1 x_3^2) (* x_2^2 x_3) (* -1 x_1 x_2^2) (* -1 x_2 x_3^2) (* -1 x_1^2 x_3))\r\n"
     ]
    }
   ],
   "source": [
    "(M.determinant (generate-tensor 2#(** x_%1 a_%2) {3 3}))"
   ]
  },
  {
   "cell_type": "code",
   "execution_count": 30,
   "metadata": {
    "collapsed": false
   },
   "outputs": [
    {
     "name": "stdout",
     "output_type": "stream",
     "text": []
    }
   ],
   "source": [
    "(define $Schur\n",
    "    (lambda [%a]\n",
    "        (M.determinant (generate-tensor 2#(** x_%1 a_%2) {3 3}))))"
   ]
  },
  {
   "cell_type": "code",
   "execution_count": 33,
   "metadata": {
    "collapsed": false
   },
   "outputs": [
    {
     "name": "stdout",
     "output_type": "stream",
     "text": [
      "(+ (* x_1^4 x_2^2 x_3) (* x_1^2 x_2 x_3^4) (* x_1 x_2^4 x_3^2) (* -1 x_1^2 x_2^4 x_3) (* -1 x_1 x_2^2 x_3^4) (* -1 x_1^4 x_2 x_3^2))\r\n"
     ]
    }
   ],
   "source": [
    "(Schur [|4 2 1|])"
   ]
  },
  {
   "cell_type": "markdown",
   "metadata": {},
   "source": [
    "GLの既約表現の指標"
   ]
  },
  {
   "cell_type": "markdown",
   "metadata": {},
   "source": [
    "まずは$GL(2)$についてやる。\n",
    "$T \\subset B \\subset G$を対角行列、上三角行列、$GL(2)$"
   ]
  },
  {
   "cell_type": "markdown",
   "metadata": {},
   "source": [
    "$T$の表現は$t=(t_1,t_2)$を$t_1^{\\lambda_1}t_2^{\\lambda_2}$にうつすもの"
   ]
  },
  {
   "cell_type": "code",
   "execution_count": 34,
   "metadata": {
    "collapsed": false
   },
   "outputs": [
    {
     "name": "stdout",
     "output_type": "stream",
     "text": []
    }
   ],
   "source": [
    "(define $weight (* (** t_1 w_1) (** t_2 w_2)))"
   ]
  },
  {
   "cell_type": "code",
   "execution_count": 38,
   "metadata": {
    "collapsed": false
   },
   "outputs": [
    {
     "name": "stdout",
     "output_type": "stream",
     "text": [
      "(* t_1 t_2^3)\r\n"
     ]
    }
   ],
   "source": [
    "(substitute {[w_1 1] [w_2 3]} weight)"
   ]
  },
  {
   "cell_type": "code",
   "execution_count": null,
   "metadata": {
    "collapsed": true
   },
   "outputs": [],
   "source": []
  }
 ],
 "metadata": {
  "kernelspec": {
   "display_name": "Egison",
   "language": "egison",
   "name": "egison"
  },
  "language_info": {
   "codemirror_mode": "egison",
   "file_extension": ".egi",
   "mimetype": "text/plain",
   "name": "egison"
  }
 },
 "nbformat": 4,
 "nbformat_minor": 0
}
