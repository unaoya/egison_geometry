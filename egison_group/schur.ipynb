{
 "cells": [
  {
   "cell_type": "markdown",
   "metadata": {},
   "source": [
    "Schur多項式\n",
    "\n",
    "$\\alpha_1>\\alpha_2>\\cdots>\\alpha_n\\geq0$に対し\n",
    "$$\n",
    "\\det(x_j^{\\alpha_i})_{1\\leq i,j,\\leq n}\n",
    "$$\n",
    "\n",
    "$$ \\begin{pmatrix} x_{1} \\\\ 2 \\\\ 3\\\\ \\end{pmatrix} $$"
   ]
  },
  {
   "cell_type": "code",
   "execution_count": 1,
   "metadata": {
    "collapsed": false
   },
   "outputs": [
    {
     "name": "stdout",
     "output_type": "stream",
     "text": []
    }
   ],
   "source": [
    "(define $x [| x1 x2 x3 |])"
   ]
  },
  {
   "cell_type": "code",
   "execution_count": 2,
   "metadata": {
    "collapsed": false
   },
   "outputs": [
    {
     "name": "stdout",
     "output_type": "stream",
     "text": [
      "Not implemented: user-refs\r\n"
     ]
    }
   ],
   "source": [
    "(user-refs x {1})"
   ]
  },
  {
   "cell_type": "code",
   "execution_count": 3,
   "metadata": {
    "collapsed": false
   },
   "outputs": [
    {
     "data": {
      "text/html": [
       "$$\\begin{pmatrix} x1 \\\\ x2 \\\\ x3\\\\ \\end{pmatrix}$$"
      ]
     },
     "metadata": {},
     "output_type": "display_data"
    }
   ],
   "source": [
    "x"
   ]
  },
  {
   "cell_type": "code",
   "execution_count": 4,
   "metadata": {
    "collapsed": false
   },
   "outputs": [
    {
     "name": "stdout",
     "output_type": "stream",
     "text": []
    }
   ],
   "source": [
    "(define $a [| 2 1 0 |])"
   ]
  },
  {
   "cell_type": "code",
   "execution_count": 5,
   "metadata": {
    "collapsed": false
   },
   "outputs": [
    {
     "data": {
      "text/html": [
       "$$\\begin{pmatrix} 2 \\\\ 1 \\\\ 0\\\\ \\end{pmatrix}$$"
      ]
     },
     "metadata": {},
     "output_type": "display_data"
    }
   ],
   "source": [
    "a"
   ]
  },
  {
   "cell_type": "code",
   "execution_count": 6,
   "metadata": {
    "collapsed": false
   },
   "outputs": [
    {
     "name": "stdout",
     "output_type": "stream",
     "text": []
    }
   ],
   "source": [
    "(define $X (generate-tensor 2#(** x_%1 a_%2) {3 3}))"
   ]
  },
  {
   "cell_type": "code",
   "execution_count": 7,
   "metadata": {
    "collapsed": false
   },
   "outputs": [
    {
     "data": {
      "text/html": [
       "$$\\begin{pmatrix} x1^2 & x1 & 1 \\\\ x2^2 & x2 & 1 \\\\ x3^2 & x3 & 1 \\\\ \\end{pmatrix}$$"
      ]
     },
     "metadata": {},
     "output_type": "display_data"
    }
   ],
   "source": [
    "X"
   ]
  },
  {
   "cell_type": "code",
   "execution_count": 8,
   "metadata": {
    "collapsed": false
   },
   "outputs": [
    {
     "name": "stdout",
     "output_type": "stream",
     "text": []
    }
   ],
   "source": [
    "(define $vandermonde (M.determinant X))"
   ]
  },
  {
   "cell_type": "code",
   "execution_count": 9,
   "metadata": {
    "collapsed": false
   },
   "outputs": [
    {
     "data": {
      "text/html": [
       "$$x1^2 x2 + x1 x3^2 + x2^2 x3 - x1 x2^2 - x2 x3^2 - x1^2 x3$$"
      ]
     },
     "metadata": {},
     "output_type": "display_data"
    }
   ],
   "source": [
    "vandermonde"
   ]
  },
  {
   "cell_type": "code",
   "execution_count": 10,
   "metadata": {
    "collapsed": false
   },
   "outputs": [
    {
     "name": "stdout",
     "output_type": "stream",
     "text": []
    }
   ],
   "source": [
    "(define $Schur\n",
    "    (lambda [%a]\n",
    "        (P./ (M.determinant (generate-tensor 2#(** x_%1 a_%2) {3 3})) vandermonde x_1)))"
   ]
  },
  {
   "cell_type": "code",
   "execution_count": 11,
   "metadata": {
    "collapsed": false
   },
   "outputs": [
    {
     "data": {
      "text/html": [
       "$$(\\frac{2 x3^3 x2 - x3^4 + x2^4 - 2 x2^3 x3 + x2^3 x1 - 3 x2^2 x1 x3 + 3 x2 x1 x3^2 - x3^3 x1}{x2^3 - 3 x2^2 x3 + 3 x2 x3^2 - x3^3}, 0)$$"
      ]
     },
     "metadata": {},
     "output_type": "display_data"
    }
   ],
   "source": [
    "(Schur [|3 1 0|])"
   ]
  },
  {
   "cell_type": "code",
   "execution_count": 14,
   "metadata": {
    "collapsed": false
   },
   "outputs": [
    {
     "data": {
      "text/html": [
       "$$(\\frac{x2 - x3}{x2 - x3}, 0)$$"
      ]
     },
     "metadata": {},
     "output_type": "display_data"
    }
   ],
   "source": [
    "(P./ vandermonde vandermonde x_1)"
   ]
  },
  {
   "cell_type": "code",
   "execution_count": 15,
   "metadata": {
    "collapsed": false
   },
   "outputs": [
    {
     "name": "stdout",
     "output_type": "stream",
     "text": []
    }
   ],
   "source": [
    "(define $as (reverse (coefficients vandermonde x_1)))"
   ]
  },
  {
   "cell_type": "code",
   "execution_count": 16,
   "metadata": {
    "collapsed": false
   },
   "outputs": [
    {
     "data": {
      "text/html": [
       "$$\\{x2 - x3, x3^2 - x2^2, x2^2 x3 - x2 x3^2\\}$$"
      ]
     },
     "metadata": {},
     "output_type": "display_data"
    }
   ],
   "source": [
    "as"
   ]
  },
  {
   "cell_type": "code",
   "execution_count": 17,
   "metadata": {
    "collapsed": false
   },
   "outputs": [
    {
     "data": {
      "text/html": [
       "$$(\\{\\frac{x2 - x3}{x2 - x3}\\}, \\{0, 0\\})$$"
      ]
     },
     "metadata": {},
     "output_type": "display_data"
    }
   ],
   "source": [
    "(L./ as as)"
   ]
  },
  {
   "cell_type": "markdown",
   "metadata": {},
   "source": [
    "(/ x y) -> (fst P./ w y x_2)"
   ]
  },
  {
   "cell_type": "code",
   "execution_count": 18,
   "metadata": {
    "collapsed": false
   },
   "outputs": [
    {
     "name": "stdout",
     "output_type": "stream",
     "text": []
    }
   ],
   "source": [
    "(define $L./\n",
    "  (lambda [$xs $ys]\n",
    "    (if (lt? (length xs) (length ys))\n",
    "      [{} xs]\n",
    "      (match [xs ys] [(list math-expr) (list math-expr)]\n",
    "    {[\n",
    "    [<cons $y $yrs> <cons $w $wrs>]\n",
    "            (let {[[$zs $rs] (L./ {@(map2 - (take (length yrs) wrs) (map (* $ (/ w y)) yrs))\n",
    "                @(drop (length yrs) wrs)} ys)]}\n",
    "                [{(fst (P./ w y x_2)) @zs} rs])\n",
    "                ]}))))"
   ]
  },
  {
   "cell_type": "code",
   "execution_count": 19,
   "metadata": {
    "collapsed": false
   },
   "outputs": [
    {
     "name": "stdout",
     "output_type": "stream",
     "text": []
    }
   ],
   "source": [
    "(define $P./\n",
    "  (lambda [$fx $gx $x]\n",
    "    (let* {[$as (reverse (coefficients fx x))]\n",
    "           [$bs (reverse (coefficients gx x))]\n",
    "           [[$zs $rs] (L./ as bs)]}\n",
    "      [(sum' (map2 2#(*' %1 (**' x %2)) (reverse zs) nats0))\n",
    "(sum' (map2 2#(*' %1 (**' x %2)) (reverse rs) nats0))])))"
   ]
  },
  {
   "cell_type": "code",
   "execution_count": 20,
   "metadata": {
    "collapsed": false
   },
   "outputs": [
    {
     "data": {
      "text/html": [
       "$$\\frac{x2 - x3}{x2 - x3}$$"
      ]
     },
     "metadata": {},
     "output_type": "display_data"
    }
   ],
   "source": [
    "(/ (- x_2 x_3) (- x_2 x_3))"
   ]
  },
  {
   "cell_type": "code",
   "execution_count": 24,
   "metadata": {
    "collapsed": false
   },
   "outputs": [
    {
     "data": {
      "text/html": [
       "$$(1, 0)$$"
      ]
     },
     "metadata": {},
     "output_type": "display_data"
    }
   ],
   "source": [
    "(P./ (- t s) (- t s) t)"
   ]
  },
  {
   "cell_type": "code",
   "execution_count": 21,
   "metadata": {
    "collapsed": false
   },
   "outputs": [
    {
     "name": "stdout",
     "output_type": "stream",
     "text": []
    }
   ],
   "source": [
    "(define $as (reverse (coefficients vandermonde x_1)))"
   ]
  },
  {
   "cell_type": "code",
   "execution_count": 22,
   "metadata": {
    "collapsed": false
   },
   "outputs": [
    {
     "data": {
      "text/html": [
       "$$\\{x2 - x3, x3^2 - x2^2, x2^2 x3 - x2 x3^2\\}$$"
      ]
     },
     "metadata": {},
     "output_type": "display_data"
    }
   ],
   "source": [
    "as"
   ]
  },
  {
   "cell_type": "code",
   "execution_count": 23,
   "metadata": {
    "collapsed": false
   },
   "outputs": [
    {
     "data": {
      "text/html": [
       "$$(\\{1\\}, \\{0, 0\\})$$"
      ]
     },
     "metadata": {},
     "output_type": "display_data"
    }
   ],
   "source": [
    "(L./ as as)"
   ]
  },
  {
   "cell_type": "code",
   "execution_count": 27,
   "metadata": {
    "collapsed": false
   },
   "outputs": [
    {
     "data": {
      "text/html": [
       "$$(1, 0)$$"
      ]
     },
     "metadata": {},
     "output_type": "display_data"
    }
   ],
   "source": [
    "(P./ vandermonde vandermonde x_1)"
   ]
  },
  {
   "cell_type": "code",
   "execution_count": 29,
   "metadata": {
    "collapsed": false
   },
   "outputs": [
    {
     "name": "stdout",
     "output_type": "stream",
     "text": []
    }
   ],
   "source": [
    "(define $Schur\n",
    "    (lambda [%a]\n",
    "        (P./ (M.determinant (generate-tensor 2#(** x_%1 a_%2) {3 3})) vandermonde x_1)))"
   ]
  },
  {
   "cell_type": "code",
   "execution_count": 30,
   "metadata": {
    "collapsed": false
   },
   "outputs": [
    {
     "data": {
      "text/html": [
       "$$(1, \\frac{-2 x2^2 x3^2 + x3^4 + x2^4 + x3^2 x1 x2 - x3^3 x1 - x2^3 x1 + x2^2 x1 x3}{x2 - x3})$$"
      ]
     },
     "metadata": {},
     "output_type": "display_data"
    }
   ],
   "source": [
    "(Schur [|3 1 0|])"
   ]
  },
  {
   "cell_type": "markdown",
   "metadata": {},
   "source": [
    "GLの既約表現の指標"
   ]
  },
  {
   "cell_type": "markdown",
   "metadata": {},
   "source": [
    "まずは$GL(2)$についてやる。\n",
    "$T \\subset B \\subset G$を対角行列、上三角行列、$GL(2)$"
   ]
  },
  {
   "cell_type": "markdown",
   "metadata": {},
   "source": [
    "$T$の表現は$t=(t_1,t_2)$を$t_1^{\\lambda_1}t_2^{\\lambda_2}$にうつすもの"
   ]
  },
  {
   "cell_type": "code",
   "execution_count": 34,
   "metadata": {
    "collapsed": false
   },
   "outputs": [
    {
     "name": "stdout",
     "output_type": "stream",
     "text": []
    }
   ],
   "source": [
    "(define $weight (* (** t_1 w_1) (** t_2 w_2)))"
   ]
  },
  {
   "cell_type": "code",
   "execution_count": 38,
   "metadata": {
    "collapsed": false
   },
   "outputs": [
    {
     "name": "stdout",
     "output_type": "stream",
     "text": [
      "(* t_1 t_2^3)\r\n"
     ]
    }
   ],
   "source": [
    "(substitute {[w_1 1] [w_2 3]} weight)"
   ]
  },
  {
   "cell_type": "code",
   "execution_count": null,
   "metadata": {
    "collapsed": true
   },
   "outputs": [],
   "source": []
  }
 ],
 "metadata": {
  "kernelspec": {
   "display_name": "Egison",
   "language": "egison",
   "name": "egison"
  },
  "language_info": {
   "codemirror_mode": "egison",
   "file_extension": ".egi",
   "mimetype": "text/plain",
   "name": "egison"
  }
 },
 "nbformat": 4,
 "nbformat_minor": 0
}
