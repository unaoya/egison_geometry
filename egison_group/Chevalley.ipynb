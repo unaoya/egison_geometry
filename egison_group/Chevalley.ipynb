{
 "cells": [
  {
   "cell_type": "markdown",
   "metadata": {},
   "source": [
    "有限Chevalley群"
   ]
  },
  {
   "cell_type": "markdown",
   "metadata": {},
   "source": [
    "$GL_2(F_3)$"
   ]
  },
  {
   "cell_type": "code",
   "execution_count": 21,
   "metadata": {
    "collapsed": false
   },
   "outputs": [
    {
     "name": "stdout",
     "output_type": "stream",
     "text": []
    }
   ],
   "source": [
    "(define $p 3)"
   ]
  },
  {
   "cell_type": "code",
   "execution_count": 1,
   "metadata": {
    "collapsed": false
   },
   "outputs": [
    {
     "data": {
      "text/html": [
       "$$\\{1, 1, 1, 2, 1, 2, 2, 2\\}$$"
      ]
     },
     "metadata": {},
     "output_type": "display_data"
    }
   ],
   "source": [
    "(match-all {1 2} (set integer) [<join _ <cons $a _>> a])"
   ]
  },
  {
   "cell_type": "code",
   "execution_count": 2,
   "metadata": {
    "collapsed": false
   },
   "outputs": [
    {
     "data": {
      "text/html": [
       "$$\\{1, 2\\}$$"
      ]
     },
     "metadata": {},
     "output_type": "display_data"
    }
   ],
   "source": [
    "(match-all {1 2} (list integer) [<join _ <cons $a _>> a])"
   ]
  },
  {
   "cell_type": "code",
   "execution_count": 3,
   "metadata": {
    "collapsed": false
   },
   "outputs": [
    {
     "data": {
      "text/html": [
       "$$\\{(1, 2), (2, 1)\\}$$"
      ]
     },
     "metadata": {},
     "output_type": "display_data"
    }
   ],
   "source": [
    "(match-all {1 2} (multiset integer) [<join _ <cons $a <cons $b_>>> [a b]])"
   ]
  },
  {
   "cell_type": "code",
   "execution_count": 4,
   "metadata": {
    "collapsed": false
   },
   "outputs": [
    {
     "data": {
      "text/html": [
       "$$\\{\\begin{pmatrix} 0 & 0 \\\\ 0 & 0 \\\\ \\end{pmatrix}, \\begin{pmatrix} 0 & 0 \\\\ 0 & 1 \\\\ \\end{pmatrix}, \\begin{pmatrix} 0 & 0 \\\\ 1 & 0 \\\\ \\end{pmatrix}, \\begin{pmatrix} 0 & 1 \\\\ 0 & 0 \\\\ \\end{pmatrix}, \\begin{pmatrix} 1 & 0 \\\\ 0 & 0 \\\\ \\end{pmatrix}, \\begin{pmatrix} 0 & 0 \\\\ 0 & 2 \\\\ \\end{pmatrix}, \\begin{pmatrix} 0 & 0 \\\\ 1 & 1 \\\\ \\end{pmatrix}, \\begin{pmatrix} 0 & 0 \\\\ 2 & 0 \\\\ \\end{pmatrix}, \\begin{pmatrix} 0 & 1 \\\\ 0 & 1 \\\\ \\end{pmatrix}, \\begin{pmatrix} 0 & 1 \\\\ 1 & 0 \\\\ \\end{pmatrix}, \\begin{pmatrix} 0 & 2 \\\\ 0 & 0 \\\\ \\end{pmatrix}, \\begin{pmatrix} 1 & 0 \\\\ 0 & 1 \\\\ \\end{pmatrix}, \\begin{pmatrix} 1 & 0 \\\\ 1 & 0 \\\\ \\end{pmatrix}, \\begin{pmatrix} 1 & 1 \\\\ 0 & 0 \\\\ \\end{pmatrix}, \\begin{pmatrix} 2 & 0 \\\\ 0 & 0 \\\\ \\end{pmatrix}, \\begin{pmatrix} 0 & 0 \\\\ 1 & 2 \\\\ \\end{pmatrix}, \\begin{pmatrix} 0 & 0 \\\\ 2 & 1 \\\\ \\end{pmatrix}, \\begin{pmatrix} 0 & 1 \\\\ 0 & 2 \\\\ \\end{pmatrix}, \\begin{pmatrix} 0 & 1 \\\\ 1 & 1 \\\\ \\end{pmatrix}, \\begin{pmatrix} 0 & 1 \\\\ 2 & 0 \\\\ \\end{pmatrix}, \\begin{pmatrix} 0 & 2 \\\\ 0 & 1 \\\\ \\end{pmatrix}, \\begin{pmatrix} 0 & 2 \\\\ 1 & 0 \\\\ \\end{pmatrix}, \\begin{pmatrix} 1 & 0 \\\\ 0 & 2 \\\\ \\end{pmatrix}, \\begin{pmatrix} 1 & 0 \\\\ 1 & 1 \\\\ \\end{pmatrix}, \\begin{pmatrix} 1 & 0 \\\\ 2 & 0 \\\\ \\end{pmatrix}, \\begin{pmatrix} 1 & 1 \\\\ 0 & 1 \\\\ \\end{pmatrix}, \\begin{pmatrix} 1 & 1 \\\\ 1 & 0 \\\\ \\end{pmatrix}, \\begin{pmatrix} 1 & 2 \\\\ 0 & 0 \\\\ \\end{pmatrix}, \\begin{pmatrix} 2 & 0 \\\\ 0 & 1 \\\\ \\end{pmatrix}, \\begin{pmatrix} 2 & 0 \\\\ 1 & 0 \\\\ \\end{pmatrix}, \\begin{pmatrix} 2 & 1 \\\\ 0 & 0 \\\\ \\end{pmatrix}, \\begin{pmatrix} 0 & 0 \\\\ 2 & 2 \\\\ \\end{pmatrix}, \\begin{pmatrix} 0 & 1 \\\\ 1 & 2 \\\\ \\end{pmatrix}, \\begin{pmatrix} 0 & 1 \\\\ 2 & 1 \\\\ \\end{pmatrix}, \\begin{pmatrix} 0 & 2 \\\\ 0 & 2 \\\\ \\end{pmatrix}, \\begin{pmatrix} 0 & 2 \\\\ 1 & 1 \\\\ \\end{pmatrix}, \\begin{pmatrix} 0 & 2 \\\\ 2 & 0 \\\\ \\end{pmatrix}, \\begin{pmatrix} 1 & 0 \\\\ 1 & 2 \\\\ \\end{pmatrix}, \\begin{pmatrix} 1 & 0 \\\\ 2 & 1 \\\\ \\end{pmatrix}, \\begin{pmatrix} 1 & 1 \\\\ 0 & 2 \\\\ \\end{pmatrix}, \\begin{pmatrix} 1 & 1 \\\\ 1 & 1 \\\\ \\end{pmatrix}, \\begin{pmatrix} 1 & 1 \\\\ 2 & 0 \\\\ \\end{pmatrix}, \\begin{pmatrix} 1 & 2 \\\\ 0 & 1 \\\\ \\end{pmatrix}, \\begin{pmatrix} 1 & 2 \\\\ 1 & 0 \\\\ \\end{pmatrix}, \\begin{pmatrix} 2 & 0 \\\\ 0 & 2 \\\\ \\end{pmatrix}, \\begin{pmatrix} 2 & 0 \\\\ 1 & 1 \\\\ \\end{pmatrix}, \\begin{pmatrix} 2 & 0 \\\\ 2 & 0 \\\\ \\end{pmatrix}, \\begin{pmatrix} 2 & 1 \\\\ 0 & 1 \\\\ \\end{pmatrix}, \\begin{pmatrix} 2 & 1 \\\\ 1 & 0 \\\\ \\end{pmatrix}, \\begin{pmatrix} 2 & 2 \\\\ 0 & 0 \\\\ \\end{pmatrix}, \\begin{pmatrix} 0 & 1 \\\\ 2 & 2 \\\\ \\end{pmatrix}, \\begin{pmatrix} 0 & 2 \\\\ 1 & 2 \\\\ \\end{pmatrix}, \\begin{pmatrix} 0 & 2 \\\\ 2 & 1 \\\\ \\end{pmatrix}, \\begin{pmatrix} 1 & 0 \\\\ 2 & 2 \\\\ \\end{pmatrix}, \\begin{pmatrix} 1 & 1 \\\\ 1 & 2 \\\\ \\end{pmatrix}, \\begin{pmatrix} 1 & 1 \\\\ 2 & 1 \\\\ \\end{pmatrix}, \\begin{pmatrix} 1 & 2 \\\\ 0 & 2 \\\\ \\end{pmatrix}, \\begin{pmatrix} 1 & 2 \\\\ 1 & 1 \\\\ \\end{pmatrix}, \\begin{pmatrix} 1 & 2 \\\\ 2 & 0 \\\\ \\end{pmatrix}, \\begin{pmatrix} 2 & 0 \\\\ 1 & 2 \\\\ \\end{pmatrix}, \\begin{pmatrix} 2 & 0 \\\\ 2 & 1 \\\\ \\end{pmatrix}, \\begin{pmatrix} 2 & 1 \\\\ 0 & 2 \\\\ \\end{pmatrix}, \\begin{pmatrix} 2 & 1 \\\\ 1 & 1 \\\\ \\end{pmatrix}, \\begin{pmatrix} 2 & 1 \\\\ 2 & 0 \\\\ \\end{pmatrix}, \\begin{pmatrix} 2 & 2 \\\\ 0 & 1 \\\\ \\end{pmatrix}, \\begin{pmatrix} 2 & 2 \\\\ 1 & 0 \\\\ \\end{pmatrix}, \\begin{pmatrix} 0 & 2 \\\\ 2 & 2 \\\\ \\end{pmatrix}, \\begin{pmatrix} 1 & 1 \\\\ 2 & 2 \\\\ \\end{pmatrix}, \\begin{pmatrix} 1 & 2 \\\\ 1 & 2 \\\\ \\end{pmatrix}, \\begin{pmatrix} 1 & 2 \\\\ 2 & 1 \\\\ \\end{pmatrix}, \\begin{pmatrix} 2 & 0 \\\\ 2 & 2 \\\\ \\end{pmatrix}, \\begin{pmatrix} 2 & 1 \\\\ 1 & 2 \\\\ \\end{pmatrix}, \\begin{pmatrix} 2 & 1 \\\\ 2 & 1 \\\\ \\end{pmatrix}, \\begin{pmatrix} 2 & 2 \\\\ 0 & 2 \\\\ \\end{pmatrix}, \\begin{pmatrix} 2 & 2 \\\\ 1 & 1 \\\\ \\end{pmatrix}, \\begin{pmatrix} 2 & 2 \\\\ 2 & 0 \\\\ \\end{pmatrix}, \\begin{pmatrix} 1 & 2 \\\\ 2 & 2 \\\\ \\end{pmatrix}, \\begin{pmatrix} 2 & 1 \\\\ 2 & 2 \\\\ \\end{pmatrix}, \\begin{pmatrix} 2 & 2 \\\\ 1 & 2 \\\\ \\end{pmatrix}, \\begin{pmatrix} 2 & 2 \\\\ 2 & 1 \\\\ \\end{pmatrix}, \\begin{pmatrix} 2 & 2 \\\\ 2 & 2 \\\\ \\end{pmatrix}\\}$$"
      ]
     },
     "metadata": {},
     "output_type": "display_data"
    }
   ],
   "source": [
    "(match-all {0 1 2} (set integer)\n",
    "    [<cons $a <cons $b <cons $c <cons $d _>>>>\n",
    "        [|[|a b|] [|c d|]|]])"
   ]
  },
  {
   "cell_type": "code",
   "execution_count": 22,
   "metadata": {
    "collapsed": false
   },
   "outputs": [
    {
     "name": "stdout",
     "output_type": "stream",
     "text": []
    }
   ],
   "source": [
    "(define $regular-mod-p?\n",
    "    (lambda [%X]\n",
    "        (not (eq? (remainder (M.determinant X) p) 0))))"
   ]
  },
  {
   "cell_type": "code",
   "execution_count": 23,
   "metadata": {
    "collapsed": false
   },
   "outputs": [
    {
     "name": "stdout",
     "output_type": "stream",
     "text": []
    }
   ],
   "source": [
    "(define $G (filter regular-mod-p? (match-all {0 1 2} (set integer)\n",
    "    [<cons $a <cons $b <cons $c <cons $d _>>>>\n",
    "        [|[|a b|] [|c d|]|]])))"
   ]
  },
  {
   "cell_type": "markdown",
   "metadata": {},
   "source": [
    "群構造を調べる"
   ]
  },
  {
   "cell_type": "code",
   "execution_count": 24,
   "metadata": {
    "collapsed": false
   },
   "outputs": [
    {
     "data": {
      "text/html": [
       "$$\\{\\begin{pmatrix} 0 & 1 \\\\ 1 & 0 \\\\ \\end{pmatrix}, \\begin{pmatrix} 1 & 0 \\\\ 0 & 1 \\\\ \\end{pmatrix}, \\begin{pmatrix} 0 & 1 \\\\ 1 & 1 \\\\ \\end{pmatrix}, \\begin{pmatrix} 0 & 1 \\\\ 2 & 0 \\\\ \\end{pmatrix}, \\begin{pmatrix} 0 & 2 \\\\ 1 & 0 \\\\ \\end{pmatrix}, \\begin{pmatrix} 1 & 0 \\\\ 0 & 2 \\\\ \\end{pmatrix}, \\begin{pmatrix} 1 & 0 \\\\ 1 & 1 \\\\ \\end{pmatrix}, \\begin{pmatrix} 1 & 1 \\\\ 0 & 1 \\\\ \\end{pmatrix}, \\begin{pmatrix} 1 & 1 \\\\ 1 & 0 \\\\ \\end{pmatrix}, \\begin{pmatrix} 2 & 0 \\\\ 0 & 1 \\\\ \\end{pmatrix}, \\begin{pmatrix} 0 & 1 \\\\ 1 & 2 \\\\ \\end{pmatrix}, \\begin{pmatrix} 0 & 1 \\\\ 2 & 1 \\\\ \\end{pmatrix}, \\begin{pmatrix} 0 & 2 \\\\ 1 & 1 \\\\ \\end{pmatrix}, \\begin{pmatrix} 0 & 2 \\\\ 2 & 0 \\\\ \\end{pmatrix}, \\begin{pmatrix} 1 & 0 \\\\ 1 & 2 \\\\ \\end{pmatrix}, \\begin{pmatrix} 1 & 0 \\\\ 2 & 1 \\\\ \\end{pmatrix}, \\begin{pmatrix} 1 & 1 \\\\ 0 & 2 \\\\ \\end{pmatrix}, \\begin{pmatrix} 1 & 1 \\\\ 2 & 0 \\\\ \\end{pmatrix}, \\begin{pmatrix} 1 & 2 \\\\ 0 & 1 \\\\ \\end{pmatrix}, \\begin{pmatrix} 1 & 2 \\\\ 1 & 0 \\\\ \\end{pmatrix}, \\begin{pmatrix} 2 & 0 \\\\ 0 & 2 \\\\ \\end{pmatrix}, \\begin{pmatrix} 2 & 0 \\\\ 1 & 1 \\\\ \\end{pmatrix}, \\begin{pmatrix} 2 & 1 \\\\ 0 & 1 \\\\ \\end{pmatrix}, \\begin{pmatrix} 2 & 1 \\\\ 1 & 0 \\\\ \\end{pmatrix}, \\begin{pmatrix} 0 & 1 \\\\ 2 & 2 \\\\ \\end{pmatrix}, \\begin{pmatrix} 0 & 2 \\\\ 1 & 2 \\\\ \\end{pmatrix}, \\begin{pmatrix} 0 & 2 \\\\ 2 & 1 \\\\ \\end{pmatrix}, \\begin{pmatrix} 1 & 0 \\\\ 2 & 2 \\\\ \\end{pmatrix}, \\begin{pmatrix} 1 & 1 \\\\ 1 & 2 \\\\ \\end{pmatrix}, \\begin{pmatrix} 1 & 1 \\\\ 2 & 1 \\\\ \\end{pmatrix}, \\begin{pmatrix} 1 & 2 \\\\ 0 & 2 \\\\ \\end{pmatrix}, \\begin{pmatrix} 1 & 2 \\\\ 1 & 1 \\\\ \\end{pmatrix}, \\begin{pmatrix} 1 & 2 \\\\ 2 & 0 \\\\ \\end{pmatrix}, \\begin{pmatrix} 2 & 0 \\\\ 1 & 2 \\\\ \\end{pmatrix}, \\begin{pmatrix} 2 & 0 \\\\ 2 & 1 \\\\ \\end{pmatrix}, \\begin{pmatrix} 2 & 1 \\\\ 0 & 2 \\\\ \\end{pmatrix}, \\begin{pmatrix} 2 & 1 \\\\ 1 & 1 \\\\ \\end{pmatrix}, \\begin{pmatrix} 2 & 1 \\\\ 2 & 0 \\\\ \\end{pmatrix}, \\begin{pmatrix} 2 & 2 \\\\ 0 & 1 \\\\ \\end{pmatrix}, \\begin{pmatrix} 2 & 2 \\\\ 1 & 0 \\\\ \\end{pmatrix}, \\begin{pmatrix} 0 & 2 \\\\ 2 & 2 \\\\ \\end{pmatrix}, \\begin{pmatrix} 2 & 0 \\\\ 2 & 2 \\\\ \\end{pmatrix}, \\begin{pmatrix} 2 & 2 \\\\ 0 & 2 \\\\ \\end{pmatrix}, \\begin{pmatrix} 2 & 2 \\\\ 2 & 0 \\\\ \\end{pmatrix}, \\begin{pmatrix} 1 & 2 \\\\ 2 & 2 \\\\ \\end{pmatrix}, \\begin{pmatrix} 2 & 1 \\\\ 2 & 2 \\\\ \\end{pmatrix}, \\begin{pmatrix} 2 & 2 \\\\ 1 & 2 \\\\ \\end{pmatrix}, \\begin{pmatrix} 2 & 2 \\\\ 2 & 1 \\\\ \\end{pmatrix}\\}$$"
      ]
     },
     "metadata": {},
     "output_type": "display_data"
    }
   ],
   "source": [
    "G"
   ]
  },
  {
   "cell_type": "markdown",
   "metadata": {},
   "source": [
    "共役類に分割する"
   ]
  },
  {
   "cell_type": "code",
   "execution_count": 25,
   "metadata": {
    "collapsed": false
   },
   "outputs": [
    {
     "name": "stdout",
     "output_type": "stream",
     "text": []
    }
   ],
   "source": [
    "(define $G.*\n",
    "    (lambda [%g %h]\n",
    "         (remainder (M.* g h) p)))"
   ]
  },
  {
   "cell_type": "code",
   "execution_count": 26,
   "metadata": {
    "collapsed": false
   },
   "outputs": [
    {
     "data": {
      "text/html": [
       "$$\\begin{pmatrix} 1 & 0 \\\\ 0 & 1 \\\\ \\end{pmatrix}_{\\;}^{#_{\\#}^{\\;}}$$"
      ]
     },
     "metadata": {},
     "output_type": "display_data"
    }
   ],
   "source": [
    "(G.* (nth 6 G) (nth 6 G))"
   ]
  },
  {
   "cell_type": "code",
   "execution_count": 10,
   "metadata": {
    "collapsed": false
   },
   "outputs": [
    {
     "name": "stdout",
     "output_type": "stream",
     "text": []
    }
   ],
   "source": [
    "(define $G.inv\n",
    "    (lambda [%g]\n",
    "        (remainder (M.inverse g) 3)))"
   ]
  },
  {
   "cell_type": "code",
   "execution_count": 11,
   "metadata": {
    "collapsed": false
   },
   "outputs": [
    {
     "data": {
      "text/html": [
       "$$\\begin{pmatrix} 0 & \\frac{1}{2} \\\\ 1 & 0 \\\\ \\end{pmatrix}$$"
      ]
     },
     "metadata": {},
     "output_type": "display_data"
    }
   ],
   "source": [
    "(M.inverse (nth 4 G))"
   ]
  },
  {
   "cell_type": "markdown",
   "metadata": {},
   "source": [
    "mod pの逆数を実装しないといけない"
   ]
  },
  {
   "cell_type": "code",
   "execution_count": 12,
   "metadata": {
    "collapsed": false
   },
   "outputs": [
    {
     "name": "stdout",
     "output_type": "stream",
     "text": []
    }
   ],
   "source": [
    "(define $conj-by\n",
    "    (lambda [%g %h]\n",
    "        (M.* (M.* (M.inverse h) g) h)))"
   ]
  },
  {
   "cell_type": "code",
   "execution_count": 13,
   "metadata": {
    "collapsed": false
   },
   "outputs": [
    {
     "data": {
      "text/html": [
       "$$\\begin{pmatrix} -1 & 1 \\\\ 1 & 1 \\\\ \\end{pmatrix}_{\\;}^{#_{\\#}^{\\;}}$$"
      ]
     },
     "metadata": {},
     "output_type": "display_data"
    }
   ],
   "source": [
    "(M.* (M.* (M.inverse (nth 3 G)) (nth 4 G)) (nth 3 G))"
   ]
  },
  {
   "cell_type": "code",
   "execution_count": 14,
   "metadata": {
    "collapsed": false
   },
   "outputs": [
    {
     "data": {
      "text/html": [
       "$$\\begin{pmatrix} -1 & 1 \\\\ 1 & 1 \\\\ \\end{pmatrix}_{\\;}^{#_{\\#}^{\\;}}$$"
      ]
     },
     "metadata": {},
     "output_type": "display_data"
    }
   ],
   "source": [
    "(conj-by (nth 4 G) (nth 3 G))"
   ]
  },
  {
   "cell_type": "code",
   "execution_count": 15,
   "metadata": {
    "collapsed": false
   },
   "outputs": [
    {
     "data": {
      "text/html": [
       "$$\\frac{1}{2}$$"
      ]
     },
     "metadata": {},
     "output_type": "display_data"
    }
   ],
   "source": [
    "(/ 1 2)"
   ]
  },
  {
   "cell_type": "code",
   "execution_count": 16,
   "metadata": {
    "collapsed": false
   },
   "outputs": [
    {
     "name": "stdout",
     "output_type": "stream",
     "text": []
    }
   ],
   "source": [
    "(define $/\n",
    "    (lambda [%a $b]\n",
    "        (match b integer\n",
    "            {[,0 #f]\n",
    "            [,1 a]\n",
    "            [,2 (remainder (* 2 a) 3)]})))"
   ]
  },
  {
   "cell_type": "code",
   "execution_count": 17,
   "metadata": {
    "collapsed": false
   },
   "outputs": [
    {
     "data": {
      "text/html": [
       "$$2$$"
      ]
     },
     "metadata": {},
     "output_type": "display_data"
    }
   ],
   "source": [
    "(/ 1 2)"
   ]
  },
  {
   "cell_type": "code",
   "execution_count": 18,
   "metadata": {
    "collapsed": false
   },
   "outputs": [
    {
     "name": "stdout",
     "output_type": "stream",
     "text": []
    }
   ],
   "source": [
    "(define $M.inverse\n",
    "  (lambda [%m]\n",
    "    (let {[$d (M.det m)]}\n",
    "      (generate-tensor\n",
    "        2#(match m matrix\n",
    "            {[<cons ,%2 ,%1 _ $A $B $C $D>\n",
    "              (if (even? (+ %1 %2))\n",
    "                (/ (M.det (M.join A B C D)) d)\n",
    "                (* -1 (/ (M.det (M.join A B C D)) d)))]})\n",
    "        (tensor-size m)))))"
   ]
  },
  {
   "cell_type": "code",
   "execution_count": 19,
   "metadata": {
    "collapsed": false
   },
   "outputs": [
    {
     "name": "stdout",
     "output_type": "stream",
     "text": []
    }
   ],
   "source": [
    "(define $G.inverse\n",
    "    (lambda [%m]\n",
    "        (let {[$d (M.det m)]}\n",
    "            (/ m d))))"
   ]
  },
  {
   "cell_type": "code",
   "execution_count": 20,
   "metadata": {
    "collapsed": false
   },
   "outputs": [
    {
     "name": "stdout",
     "output_type": "stream",
     "text": [
      "Error: failed pattern match\r\n"
     ]
    }
   ],
   "source": [
    "(/ (nth 4 G) (M.det (nth 4 G)))"
   ]
  },
  {
   "cell_type": "code",
   "execution_count": null,
   "metadata": {
    "collapsed": true
   },
   "outputs": [],
   "source": []
  }
 ],
 "metadata": {
  "kernelspec": {
   "display_name": "Egison",
   "language": "egison",
   "name": "egison"
  },
  "language_info": {
   "codemirror_mode": "egison",
   "file_extension": ".egi",
   "mimetype": "text/plain",
   "name": "egison"
  }
 },
 "nbformat": 4,
 "nbformat_minor": 0
}
